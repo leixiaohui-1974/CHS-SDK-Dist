{
 "cells": [
  {
   "cell_type": "markdown",
   "metadata": {},
   "source": [
    "# Example: Hierarchical Control System\n",
    "\n",
    "This notebook demonstrates a two-level hierarchical control system. This is a core concept of the Smart Water Platform, where high-level supervisory agents manage the objectives of low-level, local controllers.\n",
    "\n",
    "The scenario consists of:\n",
    "- **A low-level control loop**: A `LocalControlAgent` uses a PID controller to adjust a `Gate`'s opening to maintain a water level setpoint in a `Reservoir`.\n",
    "- **A high-level supervisory loop**: A `CentralDispatcher` agent monitors the reservoir's water level. If the level exceeds a 'flood' threshold, it issues a new, lower setpoint to the local controller to bring the level down."
   ]
  },
  {
   "cell_type": "markdown",
   "metadata": {},
   "source": [
    "## Simulation Setup\n",
    "\n",
    "To make this notebook self-contained, the setup code from the `helpers.py` module is included directly here. \n",
    "\n",
    "The system is initialized with the reservoir level at 19.0m. The initial setpoint for the local controller is 15.0m. The central dispatcher's rule is to change the setpoint to 12.0m if the water level exceeds 18.0m. We should therefore see the simulation start with the high-level agent immediately intervening."
   ]
  },
  {
   "cell_type": "code",
   "execution_count": null,
   "metadata": {},
   "outputs": [],
   "source": [
    "import matplotlib.pyplot as plt\n",
    "import pandas as pd\n",
    "from swp.simulation_identification.physical_objects.reservoir import Reservoir\n",
    "from swp.simulation_identification.physical_objects.gate import Gate\n",
    "from swp.local_agents.control.pid_controller import PIDController\n",
    "from swp.local_agents.control.local_control_agent import LocalControlAgent\n",
    "from swp.local_agents.perception.digital_twin_agent import DigitalTwinAgent\n",
    "from swp.central_coordination.dispatch.central_dispatcher import CentralDispatcher\n",
    "from swp.central_coordination.collaboration.message_bus import MessageBus\n",
    "from swp.core_engine.testing.simulation_harness import SimulationHarness\n",
    "\n",
    "def setup_hierarchical_control_system(message_bus, simulation_dt):\n",
    "    RESERVOIR_STATE_TOPIC = \"state.reservoir.level\"\n",
    "    GATE_STATE_TOPIC = \"state.gate.gate_1\"\n",
    "    GATE_ACTION_TOPIC = \"action.gate.opening\"\n",
    "    GATE_COMMAND_TOPIC = \"command.gate1.setpoint\"\n",
    "\n",
    "    gate_params = {'max_rate_of_change': 0.5, 'discharge_coefficient': 0.6, 'width': 10, 'max_opening': 5.0}\n",
    "    reservoir = Reservoir(name=\"reservoir_1\", initial_state={'volume': 28.5e6, 'water_level': 19.0}, parameters={'surface_area': 1.5e6})\n",
    "    gate = Gate(name=\"gate_1\", initial_state={'opening': 0.1}, parameters=gate_params, message_bus=message_bus, action_topic=GATE_ACTION_TOPIC)\n",
    "\n",
    "    reservoir_twin = DigitalTwinAgent(agent_id=\"twin_reservoir_1\", simulated_object=reservoir, message_bus=message_bus, state_topic=RESERVOIR_STATE_TOPIC)\n",
    "    gate_twin = DigitalTwinAgent(agent_id=\"twin_gate_1\", simulated_object=gate, message_bus=message_bus, state_topic=GATE_STATE_TOPIC)\n",
    "\n",
    "    pid = PIDController(Kp=-0.8, Ki=-0.1, Kd=-0.2, setpoint=15.0, min_output=0.0, max_output=gate_params['max_opening'])\n",
    "    lca = LocalControlAgent(agent_id=\"lca_gate_1\", controller=pid, message_bus=message_bus, observation_topic=RESERVOIR_STATE_TOPIC, observation_key='water_level', action_topic=GATE_ACTION_TOPIC, dt=simulation_dt, command_topic=GATE_COMMAND_TOPIC, feedback_topic=GATE_STATE_TOPIC)\n",
    "\n",
    "    rules = {'flood_threshold': 18.0, 'normal_setpoint': 15.0, 'flood_setpoint': 12.0}\n",
    "    dispatcher = CentralDispatcher(agent_id=\"dispatcher_1\", message_bus=message_bus, state_subscriptions={'reservoir_level': RESERVOIR_STATE_TOPIC}, command_topics={'gate1_command': GATE_COMMAND_TOPIC}, rules=rules)\n",
    "\n",
    "    return [reservoir, gate], [reservoir_twin, gate_twin, lca, dispatcher]\n",
    "\n",
    "# Main simulation logic\n",
    "message_bus = MessageBus()\n",
    "simulation_dt = 1.0\n",
    "components, agents = setup_hierarchical_control_system(message_bus, simulation_dt)\n",
    "\n",
    "simulation_config = {'duration': 500, 'dt': simulation_dt}\n",
    "harness = SimulationHarness(config=simulation_config)\n",
    "\n",
    "for component in components:\n",
    "    harness.add_component(component)\n",
    "for agent in agents:\n",
    "    harness.add_agent(agent)\n",
    "\n",
    "harness.add_connection(\"reservoir_1\", \"gate_1\")\n",
    "\n",
    "# Build and run the MAS simulation\n",
    "import sys\n",
    "original_stdout = sys.stdout\n",
    "with open('simulation_log.txt', 'w') as f:\n",
    "    sys.stdout = f\n",
    "    harness.build()\n",
    "    harness.run_mas_simulation()\n",
    "sys.stdout = original_stdout\n",
    "\n",
    "print(\"Hierarchical control simulation complete.\")"
   ]
  },
  {
   "cell_type": "markdown",
   "metadata": {},
   "source": [
    "## Results and Visualization\n",
    "\n",
    "The plots below show the water level of the reservoir and the opening of the control gate. We expect to see the water level start at 19.0m and be driven down towards the 'flood' setpoint of 12.0m by the controller."
   ]
  },
  {
   "cell_type": "code",
   "execution_count": null,
   "metadata": {},
   "outputs": [],
   "source": [
    "# Extract data from history\n",
    "time = [h['time'] for h in harness.history]\n",
    "reservoir_levels = [h['reservoir_1']['water_level'] for h in harness.history]\n",
    "gate_openings = [h['gate_1']['opening'] for h in harness.history]\n",
    "\n",
    "# Create a DataFrame\n",
    "df = pd.DataFrame({\n",
    "    'Time': time,\n",
    "    'Reservoir Level': reservoir_levels,\n",
    "    'Gate Opening': gate_openings\n",
    "})\n",
    "\n",
    "print(df.head())\n",
    "\n",
    "# Plot the results\n",
    "fig, (ax1, ax2) = plt.subplots(2, 1, figsize=(12, 10), sharex=True)\n",
    "\n",
    "# Reservoir Level\n",
    "ax1.plot(df['Time'], df['Reservoir Level'], label='Reservoir Water Level')\n",
    "ax1.axhline(y=18.0, color='orange', linestyle='--', label='Flood Threshold (18.0m)')\n",
    "ax1.axhline(y=15.0, color='green', linestyle='--', label='Normal Setpoint (15.0m)')\n",
    "ax1.axhline(y=12.0, color='red', linestyle='--', label='Flood Setpoint (12.0m)')\n",
    "ax1.set_ylabel('Water Level (m)')\n",
    "ax1.set_title('Hierarchical Control Simulation')\n",
    "ax1.grid(True)\n",
    "ax1.legend()\n",
    "\n",
    "# Gate Opening\n",
    "ax2.plot(df['Time'], df['Gate Opening'], label='Gate 1 Opening', color='purple')\n",
    "ax2.set_xlabel('Time (s)')\n",
    "ax2.set_ylabel('Gate Opening (m)')\n",
    "ax2.grid(True)\n",
    "ax2.legend()\n",
    "\n",
    "plt.tight_layout()\n",
    "plt.show()"
   ]
  }
 ],
 "metadata": {
  "kernelspec": {
   "display_name": "Python 3",
   "language": "python",
   "name": "python3"
  },
  "language_info": {
   "codemirror_mode": {
    "name": "ipython",
    "version": 3
   },
   "file_extension": ".py",
   "mimetype": "text/x-python",
   "name": "python",
   "nbconvert_exporter": "python",
   "pygments_lexer": "ipython3",
   "version": "3.12.1"
  }
 },
 "nbformat": 4,
 "nbformat_minor": 2
}
