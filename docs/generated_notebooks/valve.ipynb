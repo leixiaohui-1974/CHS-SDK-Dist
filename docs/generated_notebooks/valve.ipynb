{
 "cells": [
  {
   "cell_type": "markdown",
   "metadata": {},
   "source": [
    "# Physical Object: Valve\n",
    "\n",
    "The `Valve` class models a controllable valve. Its operation is very similar to a `Gate`, calculating outflow based on the head difference and its opening percentage. The opening is controlled by a `control_signal` which can range from 0 (fully closed) to 100 (fully open)."
   ]
  },
  {
   "cell_type": "markdown",
   "metadata": {},
   "source": [
    "### State Variables\n",
    "- `opening` (float): The current opening of the valve (0-100%).\n",
    "- `outflow` (float): The calculated outflow through the valve (m^3/s).\n",
    "\n",
    "### Parameters\n",
    "- `discharge_coefficient` (float): A dimensionless factor C_d used in the flow calculation.\n",
    "- `diameter` (float): The diameter of the valve's pipe (m)."
   ]
  },
  {
   "cell_type": "markdown",
   "metadata": {},
   "source": [
    "## Simulation Example\n",
    "\n",
    "The following example simulates a valve being commanded to different opening percentages. We can observe how the outflow directly responds to these commands, given a constant head difference."
   ]
  },
  {
   "cell_type": "code",
   "execution_count": null,
   "metadata": {},
   "outputs": [],
   "source": [
    "import matplotlib.pyplot as plt\n",
    "import pandas as pd\n",
    "import numpy as np\n",
    "from swp.simulation_identification.physical_objects.valve import Valve\n",
    "from swp.core.interfaces import State, Parameters\n",
    "\n",
    "# 1. Define initial state and parameters\n",
    "initial_state = State(opening=0.0)\n",
    "parameters = Parameters(\n",
    "    discharge_coefficient=0.8,\n",
    "    diameter=0.5\n",
    ")\n",
    "\n",
    "# 2. Create a Valve instance\n",
    "valve = Valve(name=\"control_valve\", initial_state=initial_state, parameters=parameters)\n",
    "\n",
    "# 3. Simulation settings\n",
    "dt = 1.0\n",
    "simulation_duration = 100\n",
    "num_steps = int(simulation_duration / dt)\n",
    "history = []\n",
    "target_openings = []\n",
    "\n",
    "# 4. Run the simulation loop\n",
    "for t in range(num_steps):\n",
    "    # Create a varying control signal for the target opening\n",
    "    if t < 20:\n",
    "        target = 75.0\n",
    "    elif t < 60:\n",
    "        target = 25.0\n",
    "    else:\n",
    "        target = 100.0\n",
    "    target_openings.append(target)\n",
    "    \n",
    "    action = {\n",
    "        'control_signal': target,\n",
    "        'upstream_head': 20.0, # Constant upstream water level\n",
    "        'downstream_head': 10.0  # Constant downstream water level\n",
    "    }\n",
    "    \n",
    "    current_state = valve.step(action=action, dt=dt)\n",
    "    history.append(current_state.copy())\n",
    "\n",
    "print(\"Valve simulation complete.\")"
   ]
  },
  {
   "cell_type": "markdown",
   "metadata": {},
   "source": [
    "## Results and Visualization\n",
    "\n",
    "The plots show that the valve's `opening` state instantly matches the `control_signal`. The `outflow` is directly proportional to this opening, as expected from the orifice equation."
   ]
  },
  {
   "cell_type": "code",
   "execution_count": null,
   "metadata": {},
   "outputs": [],
   "source": [
    "# Extract data from history\n",
    "time = [i * dt for i in range(num_steps)]\n",
    "openings = [h['opening'] for h in history]\n",
    "outflows = [h['outflow'] for h in history]\n",
    "\n",
    "# Create a DataFrame\n",
    "df = pd.DataFrame({\n",
    "    'Time': time,\n",
    "    'Target Opening (%)': target_openings,\n",
    "    'Actual Opening (%)': openings,\n",
    "    'Outflow (m^3/s)': outflows\n",
    "})\n",
    "\n",
    "print(df.head())\n",
    "\n",
    "# Plot the results\n",
    "fig, (ax1, ax2) = plt.subplots(2, 1, figsize=(12, 10), sharex=True)\n",
    "\n",
    "# Valve Opening\n",
    "ax1.plot(df['Time'], df['Actual Opening (%)'], label='Valve Opening', color='blue', drawstyle='steps-post')\n",
    "ax1.set_ylabel('Opening (%)')\n",
    "ax1.set_title('Valve Dynamics')\n",
    "ax1.grid(True)\n",
    "ax1.legend()\n",
    "\n",
    "# Outflow\n",
    "ax2.plot(df['Time'], df['Outflow (m^3/s)'], label='Outflow', color='green')\n",
    "ax2.set_xlabel('Time (s)')\n",
    "ax2.set_ylabel('Outflow (m^3/s)')\n",
    "ax2.grid(True)\n",
    "ax2.legend()\n",
    "\n",
    "plt.tight_layout()\n",
    "plt.show()"
   ]
  }
 ],
 "metadata": {
  "kernelspec": {
   "display_name": "Python 3",
   "language": "python",
   "name": "python3"
  },
  "language_info": {
   "codemirror_mode": {
    "name": "ipython",
    "version": 3
   },
   "file_extension": ".py",
   "mimetype": "text/x-python",
   "name": "python",
   "nbconvert_exporter": "python",
   "pygments_lexer": "ipython3",
   "version": "3.12.1"
  }
 },
 "nbformat": 4,
 "nbformat_minor": 2
}
