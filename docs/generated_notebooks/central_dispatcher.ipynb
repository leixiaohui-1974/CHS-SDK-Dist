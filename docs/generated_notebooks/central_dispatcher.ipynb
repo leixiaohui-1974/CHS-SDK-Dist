{
 "cells": [
  {
   "cell_type": "markdown",
   "metadata": {},
   "source": [
    "# Agent Component: Central Dispatcher\n",
    "\n",
    "The `CentralDispatcher` is a high-level coordinating agent. It sits above local controllers and implements a system-wide strategy. It works by:\n",
    "\n",
    "1. **Subscribing** to multiple state topics from across the system to build a global view of the situation.\n",
    "2. **Evaluating** a set of rules or a strategy based on this global view.\n",
    "3. **Publishing** high-level commands (like new setpoints) to local control agents to change their behavior.\n",
    "\n",
    "This agent has a hybrid execution model:\n",
    "- Its knowledge of the system state is updated in a purely **event-driven** way via message subscriptions.\n",
    "- Its decision-making logic is executed in its `run()` method, which is called periodically by the simulation harness. This is a **time-stepped** model."
   ]
  },
  {
   "cell_type": "markdown",
   "metadata": {},
   "source": [
    "## Simulation Example\n",
    "\n",
    "We will demonstrate the dispatcher's rule-based logic. We will configure it with a rule to issue a 'flood alert' command if a reservoir's water level goes above a certain threshold.\n",
    "\n",
    "1. We will create a `CentralDispatcher` with this rule.\n",
    "2. We will set up a listener to capture any commands it sends.\n",
    "3. We will first run the agent with a normal water level.\n",
    "4. Then, we will publish a high water level to the state topic and run the agent again. This should trigger the rule and cause a command to be published."
   ]
  },
  {
   "cell_type": "code",
   "execution_count": null,
   "metadata": {},
   "outputs": [],
   "source": [
    "import pandas as pd\n",
    "from swp.central_coordination.dispatch.central_dispatcher import CentralDispatcher\n",
    "from swp.central_coordination.collaboration.message_bus import MessageBus\n",
    "\n",
    "# 1. Setup components\n",
    "message_bus = MessageBus()\n",
    "STATE_TOPIC = \"state.reservoir.level\"\n",
    "COMMAND_TOPIC = \"command.gate1.setpoint\"\n",
    "\n",
    "# The rules define the dispatcher's behavior\n",
    "rules = {\n",
    "    'flood_threshold': 18.0,\n",
    "    'normal_setpoint': 15.0,\n",
    "    'flood_setpoint': 12.0\n",
    "}\n",
    "\n",
    "dispatcher = CentralDispatcher(\n",
    "    agent_id=\"main_dispatcher\",\n",
    "    message_bus=message_bus,\n",
    "    state_subscriptions={'reservoir_level': STATE_TOPIC},\n",
    "    command_topics={'gate1_command': COMMAND_TOPIC},\n",
    "    rules=rules\n",
    ")\n",
    "\n",
    "# 2. Create a listener for the dispatcher's commands\n",
    "captured_commands = []\n",
    "def command_listener(message):\n",
    "    print(f\"--> LISTENER CAPTURED COMMAND: {message}\")\n",
    "    captured_commands.append(message)\n",
    "\n",
    "message_bus.subscribe(COMMAND_TOPIC, command_listener)\n",
    "\n",
    "# 3. Simulation\n",
    "print(\"--- Step 1: Initial Run ---\")\n",
    "dispatcher.run(current_time=0)\n",
    "print(\"Dispatcher sends initial setpoint on first run.\")\n",
    "\n",
    "print(\"\\n--- Step 2: Normal Conditions ---\")\n",
    "# Publish a normal state message\n",
    "message_bus.publish(STATE_TOPIC, {'water_level': 16.0})\n",
    "print(\"Published normal water level (16.0m). Running dispatcher...\")\n",
    "dispatcher.run(current_time=1)\n",
    "print(\"No new command expected.\")\n",
    "\n",
    "print(\"\\n--- Step 3: Flood Conditions ---\")\n",
    "# Publish a high water level message\n",
    "message_bus.publish(STATE_TOPIC, {'water_level': 19.5})\n",
    "print(\"Published high water level (19.5m). Running dispatcher...\")\n",
    "dispatcher.run(current_time=2)\n",
    "print(\"Flood alert command expected.\")\n",
    "\n",
    "print(\"\\n--- Simulation Finished ---\")"
   ]
  },
  {
   "cell_type": "markdown",
   "metadata": {},
   "source": [
    "## Results\n",
    "\n",
    "Our listener captured two commands:\n",
    "1. The initial 'normal' setpoint that the dispatcher sends on its first run.\n",
    "2. The 'flood' setpoint, which was correctly triggered only after the water level was updated to be above the `flood_threshold`."
   ]
  },
  {
   "cell_type": "code",
   "execution_count": null,
   "metadata": {},
   "outputs": [],
   "source": [
    "print(f\"Captured {len(captured_commands)} commands:\")\n",
    "for i, cmd in enumerate(captured_commands):\n",
    "    print(f\"  Command {i+1}: {cmd}\")"
   ]
  }
 ],
 "metadata": {
  "kernelspec": {
   "display_name": "Python 3",
   "language": "python",
   "name": "python3"
  },
  "language_info": {
   "codemirror_mode": {
    "name": "ipython",
    "version": 3
   },
   "file_extension": ".py",
   "mimetype": "text/x-python",
   "name": "python",
   "nbconvert_exporter": "python",
   "pygments_lexer": "ipython3",
   "version": "3.12.1"
  }
 },
 "nbformat": 4,
 "nbformat_minor": 2
}
