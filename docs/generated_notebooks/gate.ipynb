{
 "cells": [
  {
   "cell_type": "markdown",
   "metadata": {},
   "source": [
    "# 物理对象: 闸门 (Gate)\n",
    "\n",
    "`闸门 (Gate)` 类模拟水系统中的一个可控闸门。其出流量是根据上游和下游的水位以及闸门开启面积，使用孔口方程计算的。\n",
    "\n",
    "该模型的一个关键特性是 `max_rate_of_change` 参数，它模拟了闸门开启或关闭速度的物理限制。闸门的实际开启度将以这个有限的速率向其目标值 (`control_signal`) 变化。"
   ]
  },
  {
   "cell_type": "markdown",
   "metadata": {},
   "source": [
    "### 状态变量\n",
    "- `opening` (float): 闸门的当前开启度 (例如，单位为米或百分比)。\n",
    "- `outflow` (float): 计算得出的通过闸门的出流量 (m³/s)。\n",
    "\n",
    "### 参数\n",
    "- `discharge_coefficient` (float): 孔口方程中的一个无量纲系数C。\n",
    "- `width` (float): 闸门开口的宽度 (m)。\n",
    "- `max_opening` (float): 可能的最大开启值。\n",
    "- `max_rate_of_change` (float): 闸门开启度每秒可以变化的最大速度。"
   ]
  },
  {
   "cell_type": "markdown",
   "metadata": {},
   "source": [
    "## 仿真示例\n",
    "\n",
    "以下示例模拟了一个被给予一系列目标开启度的闸门。我们可以观察到实际开启度如何因 `max_rate_of_change` 的限制而逐渐趋向目标值，以及这如何影响出流量。为隔离闸门的行为，上游和下游水位保持不变。"
   ]
  },
  {
   "cell_type": "code",
   "execution_count": null,
   "metadata": {},
   "outputs": [],
   "source": [
    "import matplotlib.pyplot as plt\n",
    "import pandas as pd\n",
    "import numpy as np\n",
    "from swp.simulation_identification.physical_objects.gate import Gate\n",
    "from swp.core.interfaces import State, Parameters\n",
    "\n",
    "# 1. 定义初始状态和参数\n",
    "initial_state = State(opening=0.1)\n",
    "parameters = Parameters(\n",
    "    discharge_coefficient=0.6,\n",
    "    width=10.0,\n",
    "    max_opening=1.0,\n",
    "    max_rate_of_change=0.05 # 每秒只能改变5%\n",
    ")\n",
    "\n",
    "# 2. 创建一个Gate实例\n",
    "gate = Gate(name=\"control_gate\", initial_state=initial_state, parameters=parameters)\n",
    "\n",
    "# 3. 仿真设置\n",
    "dt = 1.0\n",
    "simulation_duration = 100\n",
    "num_steps = int(simulation_duration / dt)\n",
    "history = []\n",
    "target_openings = []\n",
    "\n",
    "# 4. 运行仿真循环\n",
    "for t in range(num_steps):\n",
    "    # 为目标开启度创建一个变化的控制信号\n",
    "    if t < 20:\n",
    "        target = 0.8\n",
    "    elif t < 60:\n",
    "        target = 0.2\n",
    "    else:\n",
    "        target = 1.0\n",
    "    target_openings.append(target)\n",
    "    \n",
    "    action = {\n",
    "        'control_signal': target,\n",
    "        'upstream_head': 10.0, # 恒定的上游水位\n",
    "        'downstream_head': 8.0  # 恒定的下游水位\n",
    "    }\n",
    "    \n",
    "    current_state = gate.step(action=action, dt=dt)\n",
    "    history.append(current_state.copy())\n",
    "\n",
    "print(\"闸门仿真完成。\")"
   ]
  },
  {
   "cell_type": "markdown",
   "metadata": {},
   "source": [
    "## 结果与可视化\n",
    "\n",
    "图表显示了 `target_opening` (控制信号) 与闸门的实际 `opening` (开启度) 的对比。由于 `max_rate_of_change` 的限制，开启度逐渐变化的 ramping 行为清晰可见。`outflow` (出流量) 图显示了流量如何因闸门的移动而变化。"
   ]
  },
  {
   "cell_type": "code",
   "execution_count": null,
   "metadata": {},
   "outputs": [],
   "source": [
    "# 从历史记录中提取数据\n",
    "time = [i * dt for i in range(num_steps)]\n",
    "openings = [h['opening'] for h in history]\n",
    "outflows = [h['outflow'] for h in history]\n",
    "\n",
    "# 创建一个DataFrame\n",
    "df = pd.DataFrame({\n",
    "    'Time': time,\n",
    "    'Target Opening': target_openings,\n",
    "    'Actual Opening': openings,\n",
    "    'Outflow': outflows\n",
    "})\n",
    "\n",
    "print(df.head())\n",
    "\n",
    "# 绘制结果\n",
    "fig, (ax1, ax2) = plt.subplots(2, 1, figsize=(12, 10), sharex=True)\n",
    "\n",
    "# 闸门开启度\n",
    "ax1.plot(df['Time'], df['Target Opening'], label='目标开启度 (控制信号)', color='red', linestyle='--')\n",
    "ax1.plot(df['Time'], df['Actual Opening'], label='实际开启度', color='blue')\n",
    "ax1.set_ylabel('开启度 (%)')\n",
    "ax1.set_title('闸门动态过程')\n",
    "ax1.grid(True)\n",
    "ax1.legend()\n",
    "\n",
    "# 出流量\n",
    "ax2.plot(df['Time'], df['Outflow'], label='出流量', color='green')\n",
    "ax2.set_xlabel('时间 (s)')\n",
    "ax2.set_ylabel('出流量 (m³/s)')\n",
    "ax2.grid(True)\n",
    "ax2.legend()\n",
    "\n",
    "plt.tight_layout()\n",
    "plt.show()"
   ]
  }
 ],
 "metadata": {
  "kernelspec": {
   "display_name": "Python 3",
   "language": "python",
   "name": "python3"
  },
  "language_info": {
   "codemirror_mode": {
    "name": "ipython",
    "version": 3
   },
   "file_extension": ".py",
   "mimetype": "text/x-python",
   "name": "python",
   "nbconvert_exporter": "python",
   "pygments_lexer": "ipython3",
   "version": "3.12.1"
  }
 },
 "nbformat": 4,
 "nbformat_minor": 2
}
