{
 "cells": [
  {
   "cell_type": "markdown",
   "metadata": {},
   "source": [
    "# 核心组件: 消息总线 (Message Bus)\n",
    "\n",
    "`消息总线 (MessageBus)` 是多代理系统的中央通信骨干。它实现了**发布-订阅 (publish-subscribe)** 设计模式，允许代理之间在不直接相互感知的情况下进行通信。这种解耦是构建复杂、可扩展和可维护的基于代理的系统的关键特性。\n",
    "\n",
    "### 工作原理\n",
    "1. **主题 (Topics)**: 消息按主题进行组织，主题是简单的字符串 (例如, `\"state.reservoir.level\"`)。\n",
    "2. **发布 (Publishing)**: 一个代理可以向特定`主题`发送一条`消息` (一个Python字典)。\n",
    "3. **订阅 (Subscribing)**: 一个代理可以向特定`主题`注册一个`监听器`函数 (一个回调函数)。 \n",
    "\n",
    "当一条消息被发布到一个主题时，消息总线会立即调用所有订阅了该确切主题的监听器函数，并将消息传递给它们。\n",
    "\n",
    "**注意:** 这是一个简单的实现，不支持通配符订阅等高级功能。"
   ]
  },
  {
   "cell_type": "markdown",
   "metadata": {},
   "source": [
    "## 演示\n",
    "\n",
    "在下面的例子中，我们将创建一个消息总线和几个监听器。我们会将它们订阅到不同的主题，然后发布一系列消息。输出将显示哪个监听器收到了哪条消息，从而演示了基于主题的路由机制。"
   ]
  },
  {
   "cell_type": "code",
   "execution_count": null,
   "metadata": {},
   "outputs": [],
   "source": [
    "from swp.central_coordination.collaboration.message_bus import MessageBus, Message\n",
    "\n",
    "# 1. 创建消息总线\n",
    "bus = MessageBus()\n",
    "\n",
    "# 2. 定义一些监听器函数\n",
    "def reservoir_level_listener(message: Message):\n",
    "    print(f\"[水库监听器] 收到: {message}\")\n",
    "\n",
    "def gate_listener(message: Message):\n",
    "    print(f\"[闸门监听器] 收到: {message}\")\n",
    "    \n",
    "def all_commands_listener(message: Message):\n",
    "    print(f\"[命令监听器] 收到: {message}\")\n",
    "\n",
    "# 3. 将监听器订阅到主题\n",
    "print(\"--- 订阅监听器 ---\")\n",
    "bus.subscribe(\"state.reservoir.level\", reservoir_level_listener)\n",
    "bus.subscribe(\"state.gate.opening\", gate_listener)\n",
    "bus.subscribe(\"command.gate.setpoint\", all_commands_listener)\n",
    "bus.subscribe(\"command.pump.status\", all_commands_listener)\n",
    "print(\"----------------------------\\n\")\n",
    "\n",
    "# 4. 发布消息\n",
    "print(\"--- 发布消息 ---\")\n",
    "print(\"发布一个水库水位...\")\n",
    "bus.publish(\"state.reservoir.level\", {'value': 15.2, 'units': 'm'})\n",
    "\n",
    "print(\"\\n发布一个闸门命令...\")\n",
    "bus.publish(\"command.gate.setpoint\", {'value': 0.8, 'units': 'percent'})\n",
    "\n",
    "print(\"\\n发布一个闸门状态 (无活跃监听器)...\")\n",
    "bus.publish(\"state.gate.opening\", {'value': 0.75})\n",
    "\n",
    "print(\"\\n发布一个水泵命令...\")\n",
    "bus.publish(\"command.pump.status\", {'value': 1, 'note': 'turn on'})\n",
    "print(\"---------------------------\")"
   ]
  },
  {
   "cell_type": "markdown",
   "metadata": {},
   "source": [
    "### 输出分析\n",
    "\n",
    "正如输出所示：\n",
    "- `reservoir_level_listener` 只收到了发布到 `state.reservoir.level` 的消息。\n",
    "- `gate_listener` 只收到了 `state.gate.opening` 的消息。\n",
    "- `all_commands_listener` 收到了发布到 `command.gate.setpoint` 和 `command.pump.status` 的两条消息，因为我们分别将它订阅到了这两个主题。\n",
    "- 对于 `state.gate.opening` 消息，没有监听器被调用，因为 `gate_listener` 是在消息发布*之后*才订阅的。这表明订阅不是追溯性的。"
   ]
  }
 ],
 "metadata": {
  "kernelspec": {
   "display_name": "Python 3",
   "language": "python",
   "name": "python3"
  },
  "language_info": {
   "codemirror_mode": {
    "name": "ipython",
    "version": 3
   },
   "file_extension": ".py",
   "mimetype": "text/x-python",
   "name": "python",
   "nbconvert_exporter": "python",
   "pygments_lexer": "ipython3",
   "version": "3.12.1"
  }
 },
 "nbformat": 4,
 "nbformat_minor": 2
}
