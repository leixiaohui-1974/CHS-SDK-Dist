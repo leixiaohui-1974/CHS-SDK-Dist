{
 "cells": [
  {
   "cell_type": "markdown",
   "metadata": {},
   "source": [
    "# Core Component: Simulation Harness\n",
    "\n",
    "The `SimulationHarness` is a powerful tool for setting up, running, and testing simulations. It manages the components, their connections, and the main simulation loop. It essentially allows you to build a water system from its constituent parts.\n",
    "\n",
    "### Key Responsibilities:\n",
    "1. **Component Management**: Holds all the physical components (`Reservoir`, `Pipe`, etc.) and agents in the simulation.\n",
    "2. **Topology Definition**: Manages the connections between physical components (e.g., `reservoir_1 -> pipe_1 -> gate_1`).\n",
    "3. **Topological Sort**: Before running, it sorts the components into the correct execution order to ensure that water flows logically from upstream to downstream.\n",
    "4. **Simulation Loop**: Provides methods (`run_simulation`, `run_mas_simulation`) that execute the main simulation loop, stepping through time and calling the components' `step` methods in the correct order.\n",
    "5. **History Tracking**: Automatically records the state of all components at every time step in the `harness.history` attribute."
   ]
  },
  {
   "cell_type": "markdown",
   "metadata": {},
   "source": [
    "## Tutorial: Building a Simple Simulation\n",
    "\n",
    "This notebook provides a step-by-step tutorial on how to use the `SimulationHarness` to build and run a simple simulation of a reservoir emptying through a pipe and a gate."
   ]
  },
  {
   "cell_type": "code",
   "execution_count": null,
   "metadata": {},
   "outputs": [],
   "source": [
    "import matplotlib.pyplot as plt\n",
    "import pandas as pd\n",
    "from swp.core_engine.testing.simulation_harness import SimulationHarness\n",
    "from swp.simulation_identification.physical_objects.reservoir import Reservoir\n",
    "from swp.simulation_identification.physical_objects.pipe import Pipe\n",
    "from swp.simulation_identification.physical_objects.gate import Gate\n",
    "from swp.core.interfaces import State, Parameters\n",
    "\n",
    "print(\"--- Step 1: Create a SimulationHarness ---\")\n",
    "simulation_config = {'duration': 600, 'dt': 1.0}\n",
    "harness = SimulationHarness(config=simulation_config)\n",
    "\n",
    "print(\"\\n--- Step 2: Define the Physical Components ---\")\n",
    "reservoir = Reservoir(name=\"res1\", initial_state=State({'volume': 25e6, 'water_level': 15.0}), parameters=Parameters({'surface_area': 1.5e6}))\n",
    "pipe = Pipe(name=\"pipe1\", initial_state=State({'outflow': 0}), parameters=Parameters({'length': 1000, 'diameter': 1.5, 'friction_factor': 0.02}))\n",
    "gate = Gate(name=\"g1\", initial_state=State({'opening': 0.3}), parameters=Parameters({'width': 10, 'max_opening': 1.0, 'discharge_coefficient': 0.6}))\n",
    "\n",
    "print(\"\\n--- Step 3: Add Components to the Harness ---\")\n",
    "harness.add_component(reservoir)\n",
    "harness.add_component(pipe)\n",
    "harness.add_component(gate)\n",
    "\n",
    "print(\"\\n--- Step 4: Define the Topology (Connections) ---\")\n",
    "harness.add_connection(\"res1\", \"pipe1\")\n",
    "harness.add_connection(\"pipe1\", \"g1\")\n",
    "\n",
    "print(\"\\n--- Step 5: Build the Simulation ---\")\n",
    "harness.build()\n",
    "\n",
    "print(\"\\n--- Step 6: Run the Simulation ---\")\n",
    "# Redirecting verbose print output to a log file for cleaner notebook output\n",
    "import sys\n",
    "original_stdout = sys.stdout\n",
    "with open('harness_tutorial_log.txt', 'w') as f:\n",
    "    sys.stdout = f\n",
    "    harness.run_simulation()\n",
    "sys.stdout = original_stdout\n",
    "print(\"Simulation finished. Results are in harness.history.\")"
   ]
  },
  {
   "cell_type": "markdown",
   "metadata": {},
   "source": [
    "## Step 7: Analyze the Results\n",
    "\n",
    "The `harness.history` attribute now contains a list of dictionaries, where each dictionary is a snapshot of the entire system state at a single point in time. We can easily process this with Pandas and plot the results."
   ]
  },
  {
   "cell_type": "code",
   "execution_count": null,
   "metadata": {},
   "outputs": [],
   "source": [
    "# Extract data from history\n",
    "time = [h['time'] for h in harness.history]\n",
    "res_level = [h['res1']['water_level'] for h in harness.history]\n",
    "pipe_outflow = [h['pipe1']['outflow'] for h in harness.history]\n",
    "gate_outflow = [h['g1']['outflow'] for h in harness.history]\n",
    "\n",
    "# Create a DataFrame\n",
    "df = pd.DataFrame({\n",
    "    'Time': time,\n",
    "    'Reservoir Level': res_level,\n",
    "    'Pipe Outflow': pipe_outflow,\n",
    "    'Gate Outflow': gate_outflow\n",
    "})\n",
    "\n",
    "print(\"First 5 steps of simulation history:\")\n",
    "print(df.head())\n",
    "\n",
    "# Plot the results\n",
    "fig, (ax1, ax2) = plt.subplots(2, 1, figsize=(12, 10), sharex=True)\n",
    "\n",
    "ax1.plot(df['Time'], df['Reservoir Level'], label='Reservoir Level')\n",
    "ax1.set_ylabel('Water Level (m)')\n",
    "ax1.set_title('Simulation Harness Tutorial Results')\n",
    "ax1.grid(True)\n",
    "ax1.legend()\n",
    "\n",
    "ax2.plot(df['Time'], df['Pipe Outflow'], label='Pipe Outflow')\n",
    "ax2.plot(df['Time'], df['Gate Outflow'], label='Gate Outflow', linestyle='--')\n",
    "ax2.set_xlabel('Time (s)')\n",
    "ax2.set_ylabel('Outflow (m^3/s)')\n",
    "ax2.grid(True)\n",
    "ax2.legend()\n",
    "\n",
    "plt.tight_layout()\n",
    "plt.show()"
   ]
  }
 ],
 "metadata": {
  "kernelspec": {
   "display_name": "Python 3",
   "language": "python",
   "name": "python3"
  },
  "language_info": {
   "codemirror_mode": {
    "name": "ipython",
    "version": 3
   },
   "file_extension": ".py",
   "mimetype": "text/x-python",
   "name": "python",
   "nbconvert_exporter": "python",
   "pygments_lexer": "ipython3",
   "version": "3.12.1"
  }
 },
 "nbformat": 4,
 "nbformat_minor": 2
}
