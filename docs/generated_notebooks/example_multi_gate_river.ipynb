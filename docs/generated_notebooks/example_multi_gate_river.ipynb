{
 "cells": [
  {
   "cell_type": "markdown",
   "metadata": {},
   "source": [
    "# Example: Multi-Gate River System\n",
    "\n",
    "This notebook demonstrates a simulation of a river system with multiple controlled gates. The system consists of a `Reservoir`, a `RiverChannel`, and two `Gates`.\n",
    "\n",
    "This example uses the centralized control capabilities of the `SimulationHarness`. Instead of autonomous agents, `PIDController` instances are added directly to the harness, which manages their execution. This is suitable for simpler control schemes or for simulating legacy control systems."
   ]
  },
  {
   "cell_type": "markdown",
   "metadata": {},
   "source": [
    "## Control Scheme\n",
    "\n",
    "There are two independent PID controllers:\n",
    "\n",
    "1.  **Reservoir Level Control**: A controller adjusts `gate_1`'s opening to maintain the `water_level` in `reservoir_1` at a setpoint of **18.0m**.\n",
    "2.  **Channel Volume Control**: A second controller adjusts `gate_2`'s opening to maintain the `volume` of water in `channel_1` at a setpoint of **400,000 m^3**."
   ]
  },
  {
   "cell_type": "code",
   "execution_count": null,
   "metadata": {},
   "outputs": [],
   "source": [
    "import matplotlib.pyplot as plt\n",
    "import pandas as pd\n",
    "from swp.simulation_identification.physical_objects.reservoir import Reservoir\n",
    "from swp.simulation_identification.physical_objects.gate import Gate\n",
    "from swp.simulation_identification.physical_objects.river_channel import RiverChannel\n",
    "from swp.local_agents.control.pid_controller import PIDController\n",
    "from swp.core_engine.testing.simulation_harness import SimulationHarness\n",
    "\n",
    "# 1. Define the components\n",
    "reservoir = Reservoir(name=\"reservoir_1\", initial_state={'volume': 25e6, 'water_level': 15.0}, parameters={'surface_area': 1.5e6})\n",
    "gate1 = Gate(name=\"gate_1\", initial_state={'opening': 0.2}, parameters={'max_rate_of_change': 0.05, 'discharge_coefficient': 0.6, 'width': 10, 'max_opening': 1.0})\n",
    "channel = RiverChannel(name=\"channel_1\", initial_state={'volume': 5e5, 'water_level': 5.0, 'outflow': 50}, parameters={'k': 0.0001, 'length': 5000})\n",
    "gate2 = Gate(name=\"gate_2\", initial_state={'opening': 0.5}, parameters={'max_rate_of_change': 0.05, 'discharge_coefficient': 0.6, 'width': 10, 'max_opening': 1.0})\n",
    "\n",
    "# 2. Define the controllers\n",
    "controller1 = PIDController(Kp=0.2, Ki=0.01, Kd=0.05, setpoint=18.0, min_output=0.0, max_output=1.0)\n",
    "controller2 = PIDController(Kp=-1e-5, Ki=-1e-7, Kd=-1e-6, setpoint=4e5, min_output=0.0, max_output=1.0)\n",
    "\n",
    "# 3. Set up the Simulation Harness\n",
    "simulation_config = {'duration': 1000, 'dt': 1.0}\n",
    "harness = SimulationHarness(config=simulation_config)\n",
    "\n",
    "# 4. Add components and controllers\n",
    "harness.add_component(reservoir)\n",
    "harness.add_component(gate1)\n",
    "harness.add_component(channel)\n",
    "harness.add_component(gate2)\n",
    "\n",
    "harness.add_controller(controller_id=\"res_level_ctrl\", controller=controller1, controlled_id=\"gate_1\", observed_id=\"reservoir_1\", observation_key=\"water_level\")\n",
    "harness.add_controller(controller_id=\"chan_vol_ctrl\", controller=controller2, controlled_id=\"gate_2\", observed_id=\"channel_1\", observation_key=\"volume\")\n",
    "\n",
    "# 5. Define Topology\n",
    "harness.add_connection(\"reservoir_1\", \"gate_1\")\n",
    "harness.add_connection(\"gate_1\", \"channel_1\")\n",
    "harness.add_connection(\"channel_1\", \"gate_2\")\n",
    "\n",
    "# 6. Build and run the simulation\n",
    "import sys\n",
    "original_stdout = sys.stdout\n",
    "with open('simulation_log.txt', 'w') as f:\n",
    "    sys.stdout = f\n",
    "    harness.build()\n",
    "    harness.run_simulation()\n",
    "sys.stdout = original_stdout\n",
    "\n",
    "print(\"Multi-gate river simulation complete.\")"
   ]
  },
  {
   "cell_type": "markdown",
   "metadata": {},
   "source": [
    "## Results and Visualization\n",
    "\n",
    "The plots below show the state of the controlled variables (reservoir level and channel volume) and the control actions (gate openings)."
   ]
  },
  {
   "cell_type": "code",
   "execution_count": null,
   "metadata": {},
   "outputs": [],
   "source": [
    "# Extract data from history\n",
    "time = [h['time'] for h in harness.history]\n",
    "res_levels = [h['reservoir_1']['water_level'] for h in harness.history]\n",
    "chan_volumes = [h['channel_1']['volume'] for h in harness.history]\n",
    "g1_openings = [h['gate_1']['opening'] for h in harness.history]\n",
    "g2_openings = [h['gate_2']['opening'] for h in harness.history]\n",
    "\n",
    "# Create a DataFrame\n",
    "df = pd.DataFrame({\n",
    "    'Time': time,\n",
    "    'Reservoir Level': res_levels,\n",
    "    'Channel Volume': chan_volumes,\n",
    "    'Gate 1 Opening': g1_openings,\n",
    "    'Gate 2 Opening': g2_openings\n",
    "})\n",
    "\n",
    "print(df.head())\n",
    "\n",
    "# Plot the results\n",
    "fig, (ax1, ax2, ax3) = plt.subplots(3, 1, figsize=(12, 15), sharex=True)\n",
    "\n",
    "# Controlled Variables\n",
    "ax1.plot(df['Time'], df['Reservoir Level'], label='Reservoir Level')\n",
    "ax1.axhline(y=18.0, color='r', linestyle='--', label='Reservoir Setpoint (18.0m)')\n",
    "ax1.set_ylabel('Water Level (m)')\n",
    "ax1.set_title('Multi-Gate River Simulation Results')\n",
    "ax1.grid(True)\n",
    "ax1.legend()\n",
    "\n",
    "ax2.plot(df['Time'], df['Channel Volume'], label='Channel Volume', color='orange')\n",
    "ax2.axhline(y=4e5, color='purple', linestyle='--', label='Channel Setpoint (4e5 m^3)')\n",
    "ax2.set_ylabel('Volume (m^3)')\n",
    "ax2.grid(True)\n",
    "ax2.legend()\n",
    "\n",
    "# Control Actions (Gate Openings)\n",
    "ax3.plot(df['Time'], df['Gate 1 Opening'], label='Gate 1 Opening')\n",
    "ax3.plot(df['Time'], df['Gate 2 Opening'], label='Gate 2 Opening')\n",
    "ax3.set_xlabel('Time (s)')\n",
    "ax3.set_ylabel('Gate Opening (%)')\n",
    "ax3.grid(True)\n",
    "ax3.legend()\n",
    "\n",
    "plt.tight_layout()\n",
    "plt.show()"
   ]
  }
 ],
 "metadata": {
  "kernelspec": {
   "display_name": "Python 3",
   "language": "python",
   "name": "python3"
  },
  "language_info": {
   "codemirror_mode": {
    "name": "ipython",
    "version": 3
   },
   "file_extension": ".py",
   "mimetype": "text/x-python",
   "name": "python",
   "nbconvert_exporter": "python",
   "pygments_lexer": "ipython3",
   "version": "3.12.1"
  }
 },
 "nbformat": 4,
 "nbformat_minor": 2
}
