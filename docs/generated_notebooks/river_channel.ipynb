{
 "cells": [
  {
   "cell_type": "markdown",
   "metadata": {},
   "source": [
    "# Physical Object: River Channel\n",
    "\n",
    "The `RiverChannel` class models a segment of a river using a simple yet effective **linear reservoir model**. In this model, the outflow from the river channel is directly proportional to the volume of water currently stored in it.\n",
    "\n",
    "This type of model is excellent for capturing the storage and attenuation effects of a river reach, where a flood wave entering the channel will be smoothed and delayed as it travels downstream."
   ]
  },
  {
   "cell_type": "markdown",
   "metadata": {},
   "source": [
    "### State Variables\n",
    "- `volume` (float): The current volume of water in the channel (m^3).\n",
    "- `outflow` (float): The calculated outflow, proportional to the volume (m^3/s).\n",
    "\n",
    "### Parameters\n",
    "- `k` (float): The storage coefficient (1/s). A smaller `k` means a longer residence time and more attenuation."
   ]
  },
  {
   "cell_type": "markdown",
   "metadata": {},
   "source": [
    "## Simulation Example\n",
    "\n",
    "The simulation below demonstrates the attenuation effect of the river channel. We will send a sharp, pulse-like inflow (a simple 'flood wave') into the channel and observe how the outflow is lower and spread out over a longer period."
   ]
  },
  {
   "cell_type": "code",
   "execution_count": null,
   "metadata": {},
   "outputs": [],
   "source": [
    "import matplotlib.pyplot as plt\n",
    "import pandas as pd\n",
    "import numpy as np\n",
    "from swp.simulation_identification.physical_objects.river_channel import RiverChannel\n",
    "from swp.core.interfaces import State, Parameters\n",
    "\n",
    "# 1. Define initial state and parameters\n",
    "initial_state = State(volume=5e5, outflow=50)\n",
    "parameters = Parameters(k=0.0001)\n",
    "\n",
    "# 2. Create a RiverChannel instance\n",
    "channel = RiverChannel(name=\"main_reach\", initial_state=initial_state, parameters=parameters)\n",
    "\n",
    "# 3. Simulation settings\n",
    "dt = 600 # 10-minute time steps\n",
    "simulation_duration = 86400 * 2 # 2 days\n",
    "num_steps = int(simulation_duration / dt)\n",
    "history = []\n",
    "inflows = []\n",
    "\n",
    "# 4. Run the simulation loop\n",
    "base_inflow = 50.0\n",
    "for t in range(num_steps):\n",
    "    # Create a flood wave pulse\n",
    "    if 10 <= t < 30:\n",
    "        inflow = base_inflow + 500.0\n",
    "    else:\n",
    "        inflow = base_inflow\n",
    "    inflows.append(inflow)\n",
    "    \n",
    "    channel.set_inflow(inflow)\n",
    "    \n",
    "    # The step action is not used by this model\n",
    "    current_state = channel.step(action=None, dt=dt)\n",
    "    history.append(current_state.copy())\n",
    "\n",
    "print(\"River channel simulation complete.\")"
   ]
  },
  {
   "cell_type": "markdown",
   "metadata": {},
   "source": [
    "## Results and Visualization\n",
    "\n",
    "The plot clearly shows that while the inflow is a sharp, square pulse, the outflow is a much smoother, lower-peaked curve. This is the characteristic attenuation behavior of a linear reservoir model."
   ]
  },
  {
   "cell_type": "code",
   "execution_count": null,
   "metadata": {},
   "outputs": [],
   "source": [
    "# Extract data from history\n",
    "time_hours = [i * dt / 3600 for i in range(num_steps)]\n",
    "volumes_Mm3 = [h['volume'] / 1e6 for h in history]\n",
    "outflows = [h['outflow'] for h in history]\n",
    "\n",
    "# Create a DataFrame\n",
    "df = pd.DataFrame({\n",
    "    'Time (hours)': time_hours,\n",
    "    'Inflow (m^3/s)': inflows,\n",
    "    'Outflow (m^3/s)': outflows,\n",
    "    'Volume (Mm^3)': volumes_Mm3\n",
    "})\n",
    "\n",
    "print(df.head())\n",
    "\n",
    "# Plot the results\n",
    "fig, ax1 = plt.subplots(figsize=(12, 6))\n",
    "\n",
    "# Flows\n",
    "ax1.plot(df['Time (hours)'], df['Inflow (m^3/s)'], label='Inflow', color='blue', linestyle='--')\n",
    "ax1.plot(df['Time (hours)'], df['Outflow (m^3/s)'], label='Outflow', color='red')\n",
    "ax1.set_xlabel('Time (hours)')\n",
    "ax1.set_ylabel('Flow Rate (m^3/s)')\n",
    "ax1.set_title('River Channel Flood Wave Attenuation')\n",
    "ax1.grid(True)\n",
    "ax1.legend()\n",
    "\n",
    "plt.tight_layout()\n",
    "plt.show()"
   ]
  }
 ],
 "metadata": {
  "kernelspec": {
   "display_name": "Python 3",
   "language": "python",
   "name": "python3"
  },
  "language_info": {
   "codemirror_mode": {
    "name": "ipython",
    "version": 3
   },
   "file_extension": ".py",
   "mimetype": "text/x-python",
   "name": "python",
   "nbconvert_exporter": "python",
   "pygments_lexer": "ipython3",
   "version": "3.12.1"
  }
 },
 "nbformat": 4,
 "nbformat_minor": 2
}
