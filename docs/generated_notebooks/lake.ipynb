{
 "cells": [
  {
   "cell_type": "markdown",
   "metadata": {},
   "source": [
    "# Physical Object: Lake\n",
    "\n",
    "The `Lake` class models a lake or reservoir with a fixed surface area. It's a stateful object, meaning its state (primarily its volume) evolves over time based on inflows and outflows.\n",
    "\n",
    "This model accounts for:\n",
    "- **Inflow**: Water entering the lake from upstream sources.\n",
    "- **Outflow**: Water being drawn from the lake by a downstream component (like a turbine or gate).\n",
    "- **Evaporation**: Water lost from the surface, calculated from an evaporation rate."
   ]
  },
  {
   "cell_type": "markdown",
   "metadata": {},
   "source": [
    "### State Variables\n",
    "- `volume` (float): The current volume of water in the lake (m^3).\n",
    "- `water_level` (float): The current water level (m), calculated from volume and surface area.\n",
    "- `outflow` (float): The outflow from the lake for the current step (m^3/s). This is not calculated by the lake itself, but is provided as an input to its `step` method.\n",
    "\n",
    "### Parameters\n",
    "- `surface_area` (float): The surface area of the lake (m^2).\n",
    "- `max_volume` (float): The maximum storage capacity of the lake (m^3).\n",
    "- `evaporation_rate_m_per_s` (float): The rate of evaporation in meters per second."
   ]
  },
  {
   "cell_type": "markdown",
   "metadata": {},
   "source": [
    "## Simulation Example\n",
    "\n",
    "In the simulation below, we model a lake with a constant inflow and a variable outflow demand from a downstream component. We can observe how the lake's volume and water level are affected by the balance between inflow, outflow, and evaporation."
   ]
  },
  {
   "cell_type": "code",
   "execution_count": null,
   "metadata": {},
   "outputs": [],
   "source": [
    "import matplotlib.pyplot as plt\n",
    "import pandas as pd\n",
    "import numpy as np\n",
    "from swp.simulation_identification.physical_objects.lake import Lake\n",
    "from swp.core.interfaces import State, Parameters\n",
    "\n",
    "# 1. Define initial state and parameters\n",
    "initial_volume = 40e6\n",
    "surface_area = 2e6\n",
    "initial_state = State(volume=initial_volume, water_level=initial_volume/surface_area, outflow=0)\n",
    "parameters = Parameters(\n",
    "    surface_area=surface_area,\n",
    "    max_volume=50e6,\n",
    "    evaporation_rate_m_per_s=2.31e-8 # Equivalent to 2mm/day\n",
    ")\n",
    "\n",
    "# 2. Create a Lake instance\n",
    "lake = Lake(name=\"upper_lake\", initial_state=initial_state, parameters=parameters)\n",
    "\n",
    "# 3. Simulation settings\n",
    "dt = 3600 # 1-hour time steps\n",
    "simulation_duration = 86400 * 5 # 5 days\n",
    "num_steps = int(simulation_duration / dt)\n",
    "history = []\n",
    "inflows = []\n",
    "requested_outflows = []\n",
    "\n",
    "# 4. Run the simulation loop\n",
    "for t in range(num_steps):\n",
    "    # Constant inflow\n",
    "    inflow = 100.0\n",
    "    inflows.append(inflow)\n",
    "    lake.set_inflow(inflow)\n",
    "    \n",
    "    # Variable outflow demand (e.g. from a power station)\n",
    "    # High demand during the day, low at night\n",
    "    hour_of_day = (t * dt / 3600) % 24\n",
    "    if 8 <= hour_of_day <= 20:\n",
    "        requested_outflow = 150.0\n",
    "    else:\n",
    "        requested_outflow = 50.0\n",
    "    requested_outflows.append(requested_outflow)\n",
    "    \n",
    "    action = {'outflow': requested_outflow}\n",
    "    \n",
    "    current_state = lake.step(action=action, dt=dt)\n",
    "    history.append(current_state.copy())\n",
    "\n",
    "print(\"Lake simulation complete.\")"
   ]
  },
  {
   "cell_type": "markdown",
   "metadata": {},
   "source": [
    "## Results and Visualization\n",
    "\n",
    "The plots show the lake's water level responding to the daily cycle of outflow demand. During the day, when outflow exceeds inflow, the water level drops. At night, when inflow exceeds outflow, the level recovers. A slight downward trend is also visible due to constant evaporation loss."
   ]
  },
  {
   "cell_type": "code",
   "execution_count": null,
   "metadata": {},
   "outputs": [],
   "source": [
    "# Extract data from history\n",
    "time_days = [i * dt / 86400 for i in range(num_steps)]\n",
    "water_levels = [h['water_level'] for h in history]\n",
    "volumes_Mm3 = [h['volume'] / 1e6 for h in history] # Convert to million cubic meters\n",
    "actual_outflows = [h['outflow'] for h in history]\n",
    "\n",
    "# Create a DataFrame\n",
    "df = pd.DataFrame({\n",
    "    'Time (days)': time_days,\n",
    "    'Inflow (m^3/s)': inflows,\n",
    "    'Requested Outflow (m^3/s)': requested_outflows,\n",
    "    'Actual Outflow (m^3/s)': actual_outflows,\n",
    "    'Water Level (m)': water_levels,\n",
    "    'Volume (Mm^3)': volumes_Mm3\n",
    "})\n",
    "\n",
    "print(df.head())\n",
    "\n",
    "# Plot the results\n",
    "fig, (ax1, ax2) = plt.subplots(2, 1, figsize=(12, 10), sharex=True)\n",
    "\n",
    "# Flows\n",
    "ax1.plot(df['Time (days)'], df['Inflow (m^3/s)'], label='Inflow', linestyle='--')\n",
    "ax1.plot(df['Time (days)'], df['Requested Outflow (m^3/s)'], label='Requested Outflow', linestyle=':')\n",
    "ax1.plot(df['Time (days)'], df['Actual Outflow (m^3/s)'], label='Actual Outflow')\n",
    "ax1.set_ylabel('Flow Rate (m^3/s)')\n",
    "ax1.set_title('Lake Simulation with Daily Demand Cycle')\n",
    "ax1.grid(True)\n",
    "ax1.legend()\n",
    "\n",
    "# Water Level\n",
    "ax2.plot(df['Time (days)'], df['Water Level (m)'], label='Water Level', color='purple')\n",
    "ax2.set_xlabel('Time (days)')\n",
    "ax2.set_ylabel('Water Level (m)')\n",
    "ax2.grid(True)\n",
    "ax2.legend()\n",
    "\n",
    "plt.tight_layout()\n",
    "plt.show()"
   ]
  }
 ],
 "metadata": {
  "kernelspec": {
   "display_name": "Python 3",
   "language": "python",
   "name": "python3"
  },
  "language_info": {
   "codemirror_mode": {
    "name": "ipython",
    "version": 3
   },
   "file_extension": ".py",
   "mimetype": "text/x-python",
   "name": "python",
   "nbconvert_exporter": "python",
   "pygments_lexer": "ipython3",
   "version": "3.12.1"
  }
 },
 "nbformat": 4,
 "nbformat_minor": 2
}
