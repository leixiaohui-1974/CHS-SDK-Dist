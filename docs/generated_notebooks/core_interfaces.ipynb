{
 "cells": [
  {
   "cell_type": "markdown",
   "metadata": {},
   "source": [
    "# Core Architecture: Interfaces\n",
    "\n",
    "The file `swp/core/interfaces.py` defines the fundamental **Abstract Base Classes (ABCs)** for the Smart Water Platform. These interfaces are the contracts that all major components must adhere to. This ensures that the system remains modular, consistent, and 'pluggable'.\n",
    "\n",
    "This notebook explains the main interfaces and provides simple examples of how to implement them. This is essential reading for any developer looking to extend the platform with new components."
   ]
  },
  {
   "cell_type": "markdown",
   "metadata": {},
   "source": [
    "## 1. The `Simulatable` Interface\n",
    "\n",
    "The `Simulatable` interface is for any object whose state can be advanced over time. This is the base for all physical objects and some logical components.\n",
    "\n",
    "**Key Methods:**\n",
    "- `step(action, dt)`: Advances the simulation by one time step `dt`, given some `action`.\n",
    "- `get_state()`: Returns the current state of the object.\n",
    "- `set_state(state)`: Sets the object's state.\n",
    "- `get_parameters()`: Returns the object's configuration parameters.\n",
    "\n",
    "### Example Implementation"
   ]
  },
  {
   "cell_type": "code",
   "execution_count": null,
   "metadata": {},
   "outputs": [],
   "source": [
    "from swp.core.interfaces import Simulatable, State, Parameters\n",
    "\n",
    "class MySimulatableObject(Simulatable):\n",
    "    def __init__(self):\n",
    "        self._state = {'value': 0}\n",
    "        self._params = {'gain': 2.0}\n",
    "        \n",
    "    def step(self, action: any, dt: float) -> State:\n",
    "        # Example: state value increases by action * gain\n",
    "        self._state['value'] += action * self._params['gain'] * dt\n",
    "        return self._state\n",
    "\n",
    "    def get_state(self) -> State:\n",
    "        return self._state\n",
    "\n",
    "    def set_state(self, state: State):\n",
    "        self._state = state\n",
    "\n",
    "    def get_parameters(self) -> Parameters:\n",
    "        return self._params\n",
    "\n",
    "# Usage\n",
    "my_obj = MySimulatableObject()\n",
    "print(f\"Initial state: {my_obj.get_state()}\")\n",
    "my_obj.step(action=5, dt=1.0)\n",
    "print(f\"State after step: {my_obj.get_state()}\")"
   ]
  },
  {
   "cell_type": "markdown",
   "metadata": {},
   "source": [
    "## 2. The `Agent` Interface\n",
    "\n",
    "The `Agent` interface is the base class for all autonomous agents in the multi-agent system. It's a simple interface with one key method.\n",
    "\n",
    "**Key Methods:**\n",
    "- `run(current_time)`: The main entry point for an agent's behavior, called periodically by the simulation harness.\n",
    "\n",
    "### Example Implementation"
   ]
  },
  {
   "cell_type": "code",
   "execution_count": null,
   "metadata": {},
   "outputs": [],
   "source": [
    "from swp.core.interfaces import Agent\n",
    "\n",
    "class MyAgent(Agent):\n",
    "    def __init__(self, agent_id: str):\n",
    "        super().__init__(agent_id)\n",
    "        self.run_count = 0\n",
    "        \n",
    "    def run(self, current_time: float):\n",
    "        self.run_count += 1\n",
    "        print(f\"[{self.agent_id}] run() called at time {current_time}. Total runs: {self.run_count}\")\n",
    "\n",
    "# Usage\n",
    "my_agent = MyAgent(agent_id=\"test_agent_007\")\n",
    "my_agent.run(current_time=0.0)\n",
    "my_agent.run(current_time=1.0)"
   ]
  },
  {
   "cell_type": "markdown",
   "metadata": {},
   "source": [
    "## 3. The `Controller` Interface\n",
    "\n",
    "The `Controller` interface is designed to encapsulate a control algorithm. This allows the core logic (e.g., PID, MPC) to be separated from the agent that uses it.\n",
    "\n",
    "**Key Methods:**\n",
    "- `compute_control_action(observation, dt)`: Takes the current system state (`observation`) and computes the appropriate control action.\n",
    "\n",
    "### Example Implementation"
   ]
  },
  {
   "cell_type": "code",
   "execution_count": null,
   "metadata": {},
   "outputs": [],
   "source": [
    "from swp.core.interfaces import Controller, State\n",
    "from typing import Any\n",
    "\n",
    "class MyBangBangController(Controller):\n",
    "    \"\"\"A simple controller that is either fully on or fully off.\"\"\"\n",
    "    def __init__(self, setpoint: float):\n",
    "        self.setpoint = setpoint\n",
    "        \n",
    "    def compute_control_action(self, observation: State, dt: float) -> Any:\n",
    "        process_variable = observation.get('value', 0)\n",
    "        if process_variable < self.setpoint:\n",
    "            return 'ON' # Return the computed action\n",
    "        else:\n",
    "            return 'OFF'\n",
    "\n",
    "# Usage\n",
    "my_controller = MyBangBangController(setpoint=100.0)\n",
    "current_state = {'value': 85.0}\n",
    "action = my_controller.compute_control_action(current_state, 1.0)\n",
    "print(f\"Current value is {current_state['value']}, controller action is: {action}\")\n",
    "\n",
    "current_state = {'value': 101.0}\n",
    "action = my_controller.compute_control_action(current_state, 1.0)\n",
    "print(f\"Current value is {current_state['value']}, controller action is: {action}\")"
   ]
  },
  {
   "cell_type": "markdown",
   "metadata": {},
   "source": [
    "## 4. The `PhysicalObjectInterface`\n",
    "\n",
    "This is a specialized interface that inherits from `Simulatable` and `Identifiable`. It is the standard base class for all physical components in the `swp/simulation_identification/physical_objects/` directory. It adds a required `name` and a `set_inflow()` method used by the `SimulationHarness`."
   ]
  }
 ],
 "metadata": {
  "kernelspec": {
   "display_name": "Python 3",
   "language": "python",
   "name": "python3"
  },
  "language_info": {
   "codemirror_mode": {
    "name": "ipython",
    "version": 3
   },
   "file_extension": ".py",
   "mimetype": "text/x-python",
   "name": "python",
   "nbconvert_exporter": "python",
   "pygments_lexer": "ipython3",
   "version": "3.12.1"
  }
 },
 "nbformat": 4,
 "nbformat_minor": 2
}
