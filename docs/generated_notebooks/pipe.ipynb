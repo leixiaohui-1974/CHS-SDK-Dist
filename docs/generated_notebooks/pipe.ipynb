{
 "cells": [
  {
   "cell_type": "markdown",
   "metadata": {},
   "source": [
    "# Physical Object: Pipe\n",
    "\n",
    "The `Pipe` class models the flow of water through a pipe, connecting two points in a water system. The model uses the Darcy-Weisbach equation to calculate flow based on the pressure difference (head) between its ends.\n",
    "\n",
    "The model can operate in two modes:\n",
    "1. **Gravity Flow**: If no inflow is specified, the flow is calculated based on the `upstream_head` and `downstream_head` provided in the `action`.\n",
    "2. **Forced Flow**: If an inflow is set (e.g., by an upstream pump), that inflow is treated as the pipe's outflow, and the model instead calculates the resulting head loss."
   ]
  },
  {
   "cell_type": "markdown",
   "metadata": {},
   "source": [
    "### State Variables\n",
    "- `outflow` (float): The calculated flow rate through the pipe (m^3/s).\n",
    "- `head_loss` (float): The loss of pressure head due to friction in the pipe (m).\n",
    "\n",
    "### Parameters\n",
    "- `length` (float): The length of the pipe (m).\n",
    "- `diameter` (float): The diameter of the pipe (m).\n",
    "- `friction_factor` (float): The Darcy friction factor for the pipe (dimensionless)."
   ]
  },
  {
   "cell_type": "markdown",
   "metadata": {},
   "source": [
    "## Simulation Example (Gravity Flow)\n",
    "\n",
    "The following example simulates a pipe connecting two points with a varying upstream head. This demonstrates how the outflow changes in response to the changing pressure differential."
   ]
  },
  {
   "cell_type": "code",
   "execution_count": null,
   "metadata": {},
   "outputs": [],
   "source": [
    "import matplotlib.pyplot as plt\n",
    "import pandas as pd\n",
    "import numpy as np\n",
    "from swp.simulation_identification.physical_objects.pipe import Pipe\n",
    "from swp.core.interfaces import State, Parameters\n",
    "\n",
    "# 1. Define initial state and parameters\n",
    "initial_state = State(outflow=0.0, head_loss=0.0)\n",
    "parameters = Parameters(\n",
    "    length=500.0,\n",
    "    diameter=0.5,\n",
    "    friction_factor=0.02\n",
    ")\n",
    "\n",
    "# 2. Create a Pipe instance\n",
    "pipe = Pipe(name=\"main_pipe\", initial_state=initial_state, parameters=parameters)\n",
    "\n",
    "# 3. Simulation settings\n",
    "dt = 1.0\n",
    "simulation_duration = 100\n",
    "num_steps = int(simulation_duration / dt)\n",
    "history = []\n",
    "upstream_heads = []\n",
    "\n",
    "# 4. Run the simulation loop\n",
    "downstream_head = 50.0  # Constant downstream head\n",
    "for t in range(num_steps):\n",
    "    # Vary the upstream head over time using a sine wave\n",
    "    upstream_head = 55.0 + 5.0 * np.sin(2 * np.pi * t / simulation_duration)\n",
    "    upstream_heads.append(upstream_head)\n",
    "    \n",
    "    action = {\n",
    "        'upstream_head': upstream_head,\n",
    "        'downstream_head': downstream_head\n",
    "    }\n",
    "    \n",
    "    current_state = pipe.step(action=action, dt=dt)\n",
    "    history.append(current_state.copy())\n",
    "\n",
    "print(\"Pipe simulation complete.\")"
   ]
  },
  {
   "cell_type": "markdown",
   "metadata": {},
   "source": [
    "## Results and Visualization\n",
    "\n",
    "The plots show the direct relationship between the head difference across the pipe and the resulting outflow."
   ]
  },
  {
   "cell_type": "code",
   "execution_count": null,
   "metadata": {},
   "outputs": [],
   "source": [
    "# Extract data from history\n",
    "time = [i * dt for i in range(num_steps)]\n",
    "outflows = [h['outflow'] for h in history]\n",
    "head_losses = [h['head_loss'] for h in history]\n",
    "\n",
    "# Create a DataFrame\n",
    "df = pd.DataFrame({\n",
    "    'Time': time,\n",
    "    'Upstream Head': upstream_heads,\n",
    "    'Outflow': outflows,\n",
    "    'Head Loss': head_losses\n",
    "})\n",
    "\n",
    "print(df.head())\n",
    "\n",
    "# Plot the results\n",
    "fig, (ax1, ax2) = plt.subplots(2, 1, figsize=(12, 10), sharex=True)\n",
    "\n",
    "# Heads\n",
    "ax1.plot(df['Time'], df['Upstream Head'], label='Upstream Head', color='blue')\n",
    "ax1.axhline(y=downstream_head, color='red', linestyle='--', label='Downstream Head')\n",
    "ax1.set_ylabel('Head (m)')\n",
    "ax1.set_title('Pipe Flow Simulation')\n",
    "ax1.grid(True)\n",
    "ax1.legend()\n",
    "\n",
    "# Outflow\n",
    "ax2.plot(df['Time'], df['Outflow'], label='Outflow', color='green')\n",
    "ax2.set_xlabel('Time (s)')\n",
    "ax2.set_ylabel('Outflow (m^3/s)')\n",
    "ax2.grid(True)\n",
    "ax2.legend()\n",
    "\n",
    "plt.tight_layout()\n",
    "plt.show()"
   ]
  }
 ],
 "metadata": {
  "kernelspec": {
   "display_name": "Python 3",
   "language": "python",
   "name": "python3"
  },
  "language_info": {
   "codemirror_mode": {
    "name": "ipython",
    "version": 3
   },
   "file_extension": ".py",
   "mimetype": "text/x-python",
   "name": "python",
   "nbconvert_exporter": "python",
   "pygments_lexer": "ipython3",
   "version": "3.12.1"
  }
 },
 "nbformat": 4,
 "nbformat_minor": 2
}
