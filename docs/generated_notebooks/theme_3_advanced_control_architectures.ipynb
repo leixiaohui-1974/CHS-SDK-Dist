{
 "cells": [
  {
   "cell_type": "markdown",
   "metadata": {},
   "source": [
    "# Advanced Control Architectures\n",
    "\n",
    "Building on the simple feedback loop from the previous notebook, we can now explore more sophisticated and powerful control architectures. The agent-based, message-driven design of the platform makes it easy to create complex systems by composing simple agents.\n",
    "\n",
    "This notebook covers two advanced patterns:\n",
    "1.  **Hierarchical Control**: A high-level, supervisory agent that commands a low-level control agent.\n",
    "2.  **Decentralized Control**: Multiple, independent control agents operating in parallel within a larger network."
   ]
  },
  {
   "cell_type": "markdown",
   "metadata": {},
   "source": [
    "## Part 1: Hierarchical Control\n",
    "\n",
    "In a hierarchical system, a high-level agent acts as a 'supervisor', making strategic decisions based on the overall system state. It then sends commands to low-level agents that are responsible for the direct, real-time control of physical components.\n",
    "\n",
    "### The Scenario\n",
    "We will model a reservoir where a `LocalControlAgent` (LCA) is trying to maintain a 'normal' water level setpoint. A supervisory `CentralDispatcher` agent also monitors the water level. If the level exceeds a 'flood' threshold, the dispatcher intervenes, sending a new, lower setpoint to the LCA to quickly reduce the water level."
   ]
  },
  {
   "cell_type": "markdown",
   "metadata": {},
   "source": [
    "### Architecture\n",
    "The key addition to our previous architecture is the `CentralDispatcher` and a new communication topic for commands."
   ]
  },
  {
   "cell_type": "code",
   "execution_count": null,
   "metadata": {},
   "outputs": [],
   "source": [
    "import networkx as nx\n",
    "import matplotlib.pyplot as plt\n",
    "\n",
    "G = nx.DiGraph()\n",
    "G.add_node(\"Reservoir\", type='physical')\n",
    "G.add_node(\"Gate\", type='physical')\n",
    "G.add_node(\"Twin Agent\", type='agent')\n",
    "G.add_node(\"LCA (PID)\", type='agent')\n",
    "G.add_node(\"Dispatcher\", type='agent')\n",
    "\n",
    "G.add_edge(\"Reservoir\", \"Twin Agent\", label='reads state')\n",
    "G.add_edge(\"Twin Agent\", \"LCA (PID)\", label='pub: state')\n",
    "G.add_edge(\"Twin Agent\", \"Dispatcher\", label='pub: state')\n",
    "G.add_edge(\"Dispatcher\", \"LCA (PID)\", label='pub: command\\n(new setpoint)')\n",
    "G.add_edge(\"LCA (PID)\", \"Gate\", label='pub: action')\n",
    "\n",
    "node_colors = ['lightblue' if G.nodes[n]['type'] == 'physical' else 'lightgreen' for n in G.nodes]\n",
    "pos = nx.spring_layout(G, seed=42)\n",
    "\n",
    "plt.figure(figsize=(10, 8))\n",
    "nx.draw(G, pos, with_labels=True, node_size=4000, node_color=node_colors, font_size=10, arrowsize=20)\n",
    "edge_labels = nx.get_edge_attributes(G, 'label')\n",
    "nx.draw_networkx_edge_labels(G, pos, edge_labels=edge_labels, font_color='red')\n",
    "plt.title('Hierarchical Control Architecture')\n",
    "plt.show()"
   ]
  },
  {
   "cell_type": "code",
   "execution_count": null,
   "metadata": {},
   "outputs": [],
   "source": [
    "from swp.core_engine.testing.simulation_harness import SimulationHarness\n",
    "from swp.central_coordination.collaboration.message_bus import MessageBus\n",
    "from swp.simulation_identification.physical_objects.reservoir import Reservoir\n",
    "from swp.simulation_identification.physical_objects.gate import Gate\n",
    "from swp.local_agents.control.pid_controller import PIDController\n",
    "from swp.local_agents.control.local_control_agent import LocalControlAgent\n",
    "from swp.local_agents.perception.digital_twin_agent import DigitalTwinAgent\n",
    "from swp.central_coordination.dispatch.central_dispatcher import CentralDispatcher\n",
    "import pandas as pd\n",
    "\n",
    "# Setup function from examples, included for clarity\n",
    "def setup_hierarchical_control_system(message_bus, simulation_dt):\n",
    "    RESERVOIR_STATE_TOPIC = \"state.reservoir.level\"\n",
    "    GATE_ACTION_TOPIC = \"action.gate.opening\"\n",
    "    GATE_COMMAND_TOPIC = \"command.gate1.setpoint\"\n",
    "    gate = Gate(name=\"gate_1\", initial_state={'opening': 0.1}, parameters={'width': 10}, message_bus=message_bus, action_topic=GATE_ACTION_TOPIC)\n",
    "    reservoir = Reservoir(name=\"reservoir_1\", initial_state={'volume': 28.5e6, 'water_level': 19.0}, parameters={'surface_area': 1.5e6})\n",
    "    reservoir_twin = DigitalTwinAgent(agent_id=\"twin_res1\", simulated_object=reservoir, message_bus=message_bus, state_topic=RESERVOIR_STATE_TOPIC)\n",
    "    pid = PIDController(Kp=-0.8, Ki=-0.1, Kd=-0.2, setpoint=15.0)\n",
    "    lca = LocalControlAgent(agent_id=\"lca_g1\", controller=pid, message_bus=message_bus, observation_topic=RESERVOIR_STATE_TOPIC, observation_key='water_level', action_topic=GATE_ACTION_TOPIC, dt=simulation_dt, command_topic=GATE_COMMAND_TOPIC)\n",
    "    rules = {'flood_threshold': 18.0, 'normal_setpoint': 15.0, 'flood_setpoint': 12.0}\n",
    "    dispatcher = CentralDispatcher(agent_id=\"dispatcher1\", message_bus=message_bus, state_subscriptions={'reservoir_level': RESERVOIR_STATE_TOPIC}, command_topics={'gate1_command': GATE_COMMAND_TOPIC}, rules=rules)\n",
    "    return [reservoir, gate], [reservoir_twin, lca, dispatcher]\n",
    "\n",
    "# Main simulation logic\n",
    "harness = SimulationHarness(config={'duration': 500, 'dt': 1.0})\n",
    "components, agents = setup_hierarchical_control_system(harness.message_bus, 1.0)\n",
    "for component in components: harness.add_component(component)\n",
    "for agent in agents: harness.add_agent(agent)\n",
    "harness.add_connection(\"reservoir_1\", \"gate_1\")\n",
    "\n",
    "import sys\n",
    "original_stdout = sys.stdout\n",
    "with open('simulation_log.txt', 'w') as f:\n",
    "    sys.stdout = f\n",
    "    harness.build()\n",
    "    harness.run_mas_simulation()\n",
    "sys.stdout = original_stdout\n",
    "\n",
    "print(\"Hierarchical simulation complete.\")"
   ]
  },
  {
   "cell_type": "markdown",
   "metadata": {},
   "source": [
    "#### Results\n",
    "The simulation starts with the water level at 19.0m, which is above the `flood_threshold` of 18.0m. The `CentralDispatcher` immediately publishes a new, lower setpoint of 12.0m to the LCA. The plot clearly shows the LCA working to bring the water level down to this new, emergency setpoint."
   ]
  },
  {
   "cell_type": "code",
   "execution_count": null,
   "metadata": {},
   "outputs": [],
   "source": [
    "df = pd.DataFrame(harness.history)\n",
    "time = df['time']\n",
    "res_level = df['reservoir_1'].apply(lambda x: x['water_level'])\n",
    "gate_opening = df['gate_1'].apply(lambda x: x['opening'])\n",
    "\n",
    "fig, (ax1, ax2) = plt.subplots(2, 1, figsize=(12, 10), sharex=True)\n",
    "ax1.plot(time, res_level, label='Reservoir Water Level')\n",
    "ax1.axhline(y=15.0, color='g', linestyle='--', label='Original Setpoint (15.0m)')\n",
    "ax1.axhline(y=12.0, color='r', linestyle='--', label='Emergency Setpoint (12.0m)')\n",
    "ax1.set_ylabel('Water Level (m)')\n",
    "ax1.set_title('Hierarchical Control Performance')\n",
    "ax1.grid(True)\n",
    "ax1.legend()\n",
    "\n",
    "ax2.plot(time, gate_opening, label='Gate Opening', color='purple')\n",
    "ax2.set_xlabel('Time (s)')\n",
    "ax2.set_ylabel('Gate Opening (%)')\n",
    "ax2.grid(True)\n",
    "ax2.legend()\n",
    "plt.show()"
   ]
  },
  {
   "cell_type": "markdown",
   "metadata": {},
   "source": [
    "---"
   ]
  },
  {
   "cell_type": "markdown",
   "metadata": {},
   "source": [
    "## Part 2: Decentralized Control\n",
    "\n",
    "Decentralized control involves multiple, independent agents operating in parallel to control different parts of a larger system. This is common in real-world networks where, for example, each dam operator manages their own facility, but their actions affect others downstream.\n",
    "\n",
    "### The Scenario\n",
    "We will model a branched river network. Two reservoirs, each with its own gate and dedicated `LocalControlAgent`, release water into separate channels. These channels then merge into a single main channel. Each LCA operates independently to maintain the setpoint in its own reservoir."
   ]
  },
  {
   "cell_type": "markdown",
   "metadata": {},
   "source": [
    "### Architecture & Code\n",
    "The code below sets up this branched network, including two independent sets of `(DigitalTwinAgent, LocalControlAgent)` pairs. The `networkx` graph clearly shows the two parallel control loops."
   ]
  },
  {
   "cell_type": "code",
   "execution_count": null,
   "metadata": {},
   "outputs": [],
   "source": [
    "from swp.simulation_identification.physical_objects.river_channel import RiverChannel\n",
    "\n",
    "# 1. Setup\n",
    "harness = SimulationHarness(config={'duration': 1000, 'dt': 1.0})\n",
    "message_bus = harness.message_bus\n",
    "\n",
    "# 2. Physical Components\n",
    "res1 = Reservoir(name=\"res1\", initial_state={'water_level': 10.0}, parameters={'surface_area': 1.5e6})\n",
    "g1 = Gate(name=\"g1\", initial_state={'opening': 0.1}, parameters={'width': 10}, message_bus=message_bus, action_topic=\"action.g1.opening\")\n",
    "trib_chan = RiverChannel(name=\"trib_chan\", initial_state={'volume': 2e5}, parameters={'k': 0.0002})\n",
    "res2 = Reservoir(name=\"res2\", initial_state={'water_level': 20.0}, parameters={'surface_area': 1.5e6})\n",
    "g2 = Gate(name=\"g2\", initial_state={'opening': 0.1}, parameters={'width': 15}, message_bus=message_bus, action_topic=\"action.g2.opening\")\n",
    "main_chan = RiverChannel(name=\"main_chan\", initial_state={'volume': 8e5}, parameters={'k': 0.0001})\n",
    "g3 = Gate(name=\"g3\", initial_state={'opening': 0.5}, parameters={'width': 20})\n",
    "for comp in [res1, g1, trib_chan, res2, g2, main_chan, g3]: harness.add_component(comp)\n",
    "harness.add_connection(\"res1\", \"g1\"); harness.add_connection(\"g1\", \"trib_chan\"); harness.add_connection(\"res2\", \"g2\");\n",
    "harness.add_connection(\"trib_chan\", \"main_chan\"); harness.add_connection(\"g2\", \"main_chan\"); harness.add_connection(\"main_chan\", \"g3\");\n",
    "\n",
    "# 3. Agent Systems (Two independent loops)\n",
    "twin1 = DigitalTwinAgent(agent_id=\"twin1\", simulated_object=res1, message_bus=message_bus, state_topic=\"state.res1.level\")\n",
    "pid1 = PIDController(Kp=-0.5, Ki=-0.05, Kd=-0.1, setpoint=12.0)\n",
    "lca1 = LocalControlAgent(agent_id=\"lca1\", controller=pid1, message_bus=message_bus, observation_topic=\"state.res1.level\", observation_key=\"water_level\", action_topic=\"action.g1.opening\", dt=1.0)\n",
    "\n",
    "twin2 = DigitalTwinAgent(agent_id=\"twin2\", simulated_object=res2, message_bus=message_bus, state_topic=\"state.res2.level\")\n",
    "pid2 = PIDController(Kp=-0.4, Ki=-0.04, Kd=-0.1, setpoint=18.0)\n",
    "lca2 = LocalControlAgent(agent_id=\"lca2\", controller=pid2, message_bus=message_bus, observation_topic=\"state.res2.level\", observation_key=\"water_level\", action_topic=\"action.g2.opening\", dt=1.0)\n",
    "for agent in [twin1, lca1, twin2, lca2]: harness.add_agent(agent)\n",
    "\n",
    "# 4. Build and Run\n",
    "import sys; original_stdout = sys.stdout\n",
    "with open('simulation_log.txt', 'w') as f:\n",
    "    sys.stdout = f; harness.build(); harness.run_mas_simulation()\n",
    "sys.stdout = original_stdout\n",
    "print(\"Decentralized simulation complete.\")\n",
    "\n",
    "# 5. Visualize Topology\n",
    "G = nx.DiGraph(harness.topology)\n",
    "plt.figure(figsize=(12, 8))\n",
    "pos = nx.spring_layout(G, seed=42, iterations=100)\n",
    "nx.draw(G, pos, with_labels=True, node_size=3000, node_color='lightblue', font_size=10, arrowsize=20)\n",
    "plt.title('Decentralized Branched Network Topology')\n",
    "plt.show()"
   ]
  },
  {
   "cell_type": "markdown",
   "metadata": {},
   "source": [
    "#### Results\n",
    "The plot shows the water levels of both reservoirs. Each one is successfully driven towards its own, independent setpoint by its dedicated control agent."
   ]
  },
  {
   "cell_type": "code",
   "execution_count": null,
   "metadata": {},
   "outputs": [],
   "source": [
    "df = pd.DataFrame(harness.history)\n",
    "time = df['time']\n",
    "res1_level = df['res1'].apply(lambda x: x['water_level'])\n",
    "res2_level = df['res2'].apply(lambda x: x['water_level'])\n",
    "\n",
    "plt.figure(figsize=(12, 6))\n",
    "plt.plot(time, res1_level, label='Reservoir 1 Water Level')\n",
    "plt.axhline(y=12.0, color='blue', linestyle='--', label='Reservoir 1 Setpoint (12.0m)')\n",
    "plt.plot(time, res2_level, label='Reservoir 2 Water Level')\n",
    "plt.axhline(y=18.0, color='orange', linestyle='--', label='Reservoir 2 Setpoint (18.0m)')\n",
    "plt.ylabel('Water Level (m)')\n",
    "plt.xlabel('Time (s)')\n",
    "plt.title('Decentralized Control Performance')\n",
    "plt.grid(True)\n",
    "plt.legend()\n",
    "plt.show()"
   ]
  }
 ],
 "metadata": {
  "kernelspec": {
   "display_name": "Python 3",
   "language": "python",
   "name": "python3"
  },
  "language_info": {
   "codemirror_mode": {
    "name": "ipython",
    "version": 3
   },
   "file_extension": ".py",
   "mimetype": "text/x-python",
   "name": "python",
   "nbconvert_exporter": "python",
   "pygments_lexer": "ipython3",
   "version": "3.12.1"
  }
 },
 "nbformat": 4,
 "nbformat_minor": 2
}
