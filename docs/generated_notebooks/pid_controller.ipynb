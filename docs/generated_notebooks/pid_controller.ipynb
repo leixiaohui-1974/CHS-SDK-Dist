{
 "cells": [
  {
   "cell_type": "markdown",
   "metadata": {},
   "source": [
    "# Control Component: PID Controller\n",
    "\n",
    "The `PIDController` is a core component for implementing feedback control loops. It calculates a control action based on the error between a desired `setpoint` and a measured `process_variable`. It is a versatile controller used in a vast majority of industrial control systems.\n",
    "\n",
    "This implementation includes:\n",
    "- **Proportional (P)**: Reacts to the current error.\n",
    "- **Integral (I)**: Accumulates past errors to eliminate steady-state error.\n",
    "- **Derivative (D)**: Responds to the rate of change of the error to dampen oscillations.\n",
    "- **Anti-Windup**: Prevents the integral term from growing uncontrollably when the controller output is saturated at its maximum or minimum limit."
   ]
  },
  {
   "cell_type": "markdown",
   "metadata": {},
   "source": [
    "## Simulation Example\n",
    "\n",
    "To demonstrate the PID controller, we will simulate a simple first-order process. Imagine this is a tank of water where the `process_variable` is the temperature, and the `control_action` is the power applied to a heater. The tank also loses heat to the environment.\n",
    "\n",
    "The goal is to use the PID controller to bring the temperature to a setpoint and maintain it there. We will also change the setpoint midway through the simulation to observe how the controller adapts."
   ]
  },
  {
   "cell_type": "code",
   "execution_count": null,
   "metadata": {},
   "outputs": [],
   "source": [
    "import matplotlib.pyplot as plt\n",
    "import pandas as pd\n",
    "import numpy as np\n",
    "from swp.local_agents.control.pid_controller import PIDController\n",
    "\n",
    "# 1. Create a PIDController instance\n",
    "pid = PIDController(\n",
    "    Kp=5.0, \n",
    "    Ki=0.5, \n",
    "    Kd=2.0, \n",
    "    setpoint=50.0, # Initial target temperature\n",
    "    min_output=0.0,  # Heater power cannot be negative\n",
    "    max_output=100.0 # Max heater power\n",
    ")\n",
    "\n",
    "# 2. Simulation settings\n",
    "dt = 1.0\n",
    "simulation_duration = 200\n",
    "num_steps = int(simulation_duration / dt)\n",
    "history = []\n",
    "\n",
    "# 3. Simple process simulation\n",
    "process_variable = 20.0 # Initial temperature\n",
    "ambient_temp = 20.0\n",
    "heat_loss_coeff = 0.1\n",
    "\n",
    "for t in range(num_steps):\n",
    "    # Change the setpoint at t=100\n",
    "    if t == 100:\n",
    "        pid.set_setpoint(75.0)\n",
    "        \n",
    "    # Controller computes the action\n",
    "    observation = {'process_variable': process_variable}\n",
    "    control_action = pid.compute_control_action(observation, dt)\n",
    "    \n",
    "    # Simulate the process: temperature changes based on heater input and heat loss\n",
    "    heat_loss = (process_variable - ambient_temp) * heat_loss_coeff\n",
    "    process_variable += (control_action - heat_loss) * dt * 0.1 # 0.1 is a process gain\n",
    "    \n",
    "    # Store results\n",
    "    history.append({\n",
    "        'time': t * dt,\n",
    "        'setpoint': pid.setpoint,\n",
    "        'process_variable': process_variable,\n",
    "        'control_action': control_action\n",
    "    })\n",
    "\n",
    "print(\"PID controller simulation complete.\")"
   ]
  },
  {
   "cell_type": "markdown",
   "metadata": {},
   "source": [
    "## Results and Visualization\n",
    "\n",
    "The plots show the `process_variable` (temperature) converging on the `setpoint`. Note the initial overshoot, which is characteristic of PID tuning. When the setpoint is changed at t=100, the controller again drives the process variable to the new target. The `control_action` plot shows the heater power being adjusted by the controller."
   ]
  },
  {
   "cell_type": "code",
   "execution_count": null,
   "metadata": {},
   "outputs": [],
   "source": [
    "# Create a DataFrame from history\n",
    "df = pd.DataFrame(history)\n",
    "\n",
    "print(df.head())\n",
    "\n",
    "# Plot the results\n",
    "fig, (ax1, ax2) = plt.subplots(2, 1, figsize=(12, 10), sharex=True)\n",
    "\n",
    "# Process Variable and Setpoint\n",
    "ax1.plot(df['time'], df['process_variable'], label='Process Variable (Temperature)')\n",
    "ax1.plot(df['time'], df['setpoint'], label='Setpoint', color='red', linestyle='--')\n",
    "ax1.set_ylabel('Temperature (°C)')\n",
    "ax1.set_title('PID Controller Simulation')\n",
    "ax1.grid(True)\n",
    "ax1.legend()\n",
    "\n",
    "# Control Action\n",
    "ax2.plot(df['time'], df['control_action'], label='Control Action (Heater Power)', color='green')\n",
    "ax2.set_xlabel('Time (s)')\n",
    "ax2.set_ylabel('Power (%)')\n",
    "ax2.grid(True)\n",
    "ax2.legend()\n",
    "\n",
    "plt.tight_layout()\n",
    "plt.show()"
   ]
  }
 ],
 "metadata": {
  "kernelspec": {
   "display_name": "Python 3",
   "language": "python",
   "name": "python3"
  },
  "language_info": {
   "codemirror_mode": {
    "name": "ipython",
    "version": 3
   },
   "file_extension": ".py",
   "mimetype": "text/x-python",
   "name": "python",
   "nbconvert_exporter": "python",
   "pygments_lexer": "ipython3",
   "version": "3.12.1"
  }
 },
 "nbformat": 4,
 "nbformat_minor": 2
}
