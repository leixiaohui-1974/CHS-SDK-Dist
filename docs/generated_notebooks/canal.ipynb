{
 "cells": [
  {
   "cell_type": "markdown",
   "metadata": {},
   "source": [
    "# Physical Object: Canal\n",
    "\n",
    "The `Canal` class models the flow of water through a canal with a trapezoidal cross-section. It uses Manning's equation to calculate the outflow based on the canal's geometry and the current water level."
   ]
  },
  {
   "cell_type": "markdown",
   "metadata": {},
   "source": [
    "### State Variables\n",
    "- `volume` (float): The current volume of water in the canal (m^3).\n",
    "- `water_level` (float): The current water level in the canal (m).\n",
    "- `outflow` (float): The calculated outflow from the canal for the current step (m^3/s).\n",
    "\n",
    "### Parameters\n",
    "- `bottom_width` (float): The width of the bottom of the canal (m).\n",
    "- `length` (float): The length of the canal segment (m).\n",
    "- `slope` (float): The longitudinal slope of the canal bed (dimensionless).\n",
    "- `side_slope_z` (float): The slope of the canal sides (z in z:1, horizontal:vertical).\n",
    "- `manning_n` (float): Manning's roughness coefficient."
   ]
  },
  {
   "cell_type": "markdown",
   "metadata": {},
   "source": [
    "## Simulation Example\n",
    "\n",
    "The following example simulates a canal that receives a variable inflow of water. We can observe how the canal's water level and outflow respond to these changes. The simulation runs for 1000 seconds."
   ]
  },
  {
   "cell_type": "code",
   "execution_count": null,
   "metadata": {},
   "outputs": [],
   "source": [
    "import matplotlib.pyplot as plt\n",
    "import pandas as pd\n",
    "import numpy as np\n",
    "from swp.simulation_identification.physical_objects.canal import Canal\n",
    "from swp.core.interfaces import State, Parameters\n",
    "\n",
    "# 1. Define initial state and parameters\n",
    "initial_state = State(volume=5e5, water_level=5.0, outflow=50)\n",
    "parameters = Parameters(\n",
    "    bottom_width=20.0,\n",
    "    length=5000.0,\n",
    "    slope=0.0001,\n",
    "    side_slope_z=2.0,\n",
    "    manning_n=0.025\n",
    ")\n",
    "\n",
    "# 2. Create a Canal instance\n",
    "canal = Canal(name=\"main_canal\", initial_state=initial_state, parameters=parameters)\n",
    "\n",
    "# 3. Simulation settings\n",
    "dt = 1.0\n",
    "simulation_duration = 1000\n",
    "num_steps = int(simulation_duration / dt)\n",
    "history = []\n",
    "\n",
    "# 4. Run the simulation loop\n",
    "for t in range(num_steps):\n",
    "    # Create a variable inflow for demonstration\n",
    "    # Starts at 50, increases to 150, then decreases\n",
    "    inflow = 50 + 100 * np.sin(np.pi * t / num_steps)\n",
    "    \n",
    "    # The harness would normally call this; we do it manually\n",
    "    canal.set_inflow(inflow)\n",
    "    \n",
    "    # The step action is empty as inflow is handled separately\n",
    "    current_state = canal.step(action=None, dt=dt)\n",
    "    \n",
    "    # Store a copy of the state\n",
    "    history.append(current_state.copy())\n",
    "\n",
    "print(\"Canal simulation complete.\")"
   ]
  },
  {
   "cell_type": "markdown",
   "metadata": {},
   "source": [
    "## Results and Visualization\n",
    "\n",
    "The plots below show the canal's response to the changing inflow. As the inflow increases, the water level and volume in the canal rise, which in turn increases the outflow according to Manning's equation."
   ]
  },
  {
   "cell_type": "code",
   "execution_count": null,
   "metadata": {},
   "outputs": [],
   "source": [
    "# Extract data from history\n",
    "time = [i * dt for i in range(num_steps)]\n",
    "inflows = [50 + 100 * np.sin(np.pi * t / num_steps) for t in range(num_steps)]\n",
    "volumes = [h['volume'] for h in history]\n",
    "water_levels = [h['water_level'] for h in history]\n",
    "outflows = [h['outflow'] for h in history]\n",
    "\n",
    "# Create a DataFrame\n",
    "df = pd.DataFrame({\n",
    "    'Time': time,\n",
    "    'Inflow': inflows,\n",
    "    'Volume': volumes,\n",
    "    'Water Level': water_levels,\n",
    "    'Outflow': outflows\n",
    "})\n",
    "\n",
    "print(df.head())\n",
    "\n",
    "# Plot the results\n",
    "fig, (ax1, ax2) = plt.subplots(2, 1, figsize=(12, 10), sharex=True)\n",
    "\n",
    "# Inflow and Outflow\n",
    "ax1.plot(df['Time'], df['Inflow'], label='Inflow', color='blue', linestyle='--')\n",
    "ax1.plot(df['Time'], df['Outflow'], label='Outflow', color='red')\n",
    "ax1.set_ylabel('Flow Rate (m^3/s)')\n",
    "ax1.set_title('Canal Flow Dynamics')\n",
    "ax1.grid(True)\n",
    "ax1.legend()\n",
    "\n",
    "# Water Level\n",
    "ax2.plot(df['Time'], df['Water Level'], label='Water Level', color='green')\n",
    "ax2.set_xlabel('Time (s)')\n",
    "ax2.set_ylabel('Water Level (m)')\n",
    "ax2.grid(True)\n",
    "ax2.legend()\n",
    "\n",
    "plt.tight_layout()\n",
    "plt.show()"
   ]
  }
 ],
 "metadata": {
  "kernelspec": {
   "display_name": "Python 3",
   "language": "python",
   "name": "python3"
  },
  "language_info": {
   "codemirror_mode": {
    "name": "ipython",
    "version": 3
   },
   "file_extension": ".py",
   "mimetype": "text/x-python",
   "name": "python",
   "nbconvert_exporter": "python",
   "pygments_lexer": "ipython3",
   "version": "3.12.1"
  }
 },
 "nbformat": 4,
 "nbformat_minor": 2
}
