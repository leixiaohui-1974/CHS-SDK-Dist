{
 "cells": [
  {
   "cell_type": "markdown",
   "metadata": {},
   "source": [
    "# Example: Multi-Agent System (MAS) Simulation\n",
    "\n",
    "This notebook demonstrates a true multi-agent, event-driven simulation. All components are fully decoupled and communicate only via a `MessageBus`.\n",
    "\n",
    "The system consists of a `Reservoir` and a `Gate`. A `DigitalTwinAgent` publishes the reservoir's state, and a `LocalControlAgent` subscribes to this information. The control agent uses a PID controller to adjust the gate's opening to maintain a constant water level in the reservoir."
   ]
  },
  {
   "cell_type": "markdown",
   "metadata": {},
   "source": [
    "## System Components\n",
    "\n",
    "### Physical\n",
    "- **Reservoir (`reservoir_1`)**: The water source.\n",
    "- **Gate (`gate_1`)**: The outflow, controlled by an agent.\n",
    "\n",
    "### Agents\n",
    "- **DigitalTwinAgent**: Publishes the `water_level` of the reservoir to the message bus.\n",
    "- **LocalControlAgent**: Listens for `water_level` updates and sends `opening` commands to the gate to drive the level towards a setpoint of 12.0m."
   ]
  },
  {
   "cell_type": "code",
   "execution_count": null,
   "metadata": {},
   "outputs": [],
   "source": [
    "import matplotlib.pyplot as plt\n",
    "import pandas as pd\n",
    "from swp.simulation_identification.physical_objects.reservoir import Reservoir\n",
    "from swp.simulation_identification.physical_objects.gate import Gate\n",
    "from swp.local_agents.control.pid_controller import PIDController\n",
    "from swp.local_agents.control.local_control_agent import LocalControlAgent\n",
    "from swp.local_agents.perception.digital_twin_agent import DigitalTwinAgent\n",
    "from swp.core_engine.testing.simulation_harness import SimulationHarness\n",
    "\n",
    "# Simulation Setup\n",
    "simulation_config = {'duration': 300, 'dt': 1.0}\n",
    "harness = SimulationHarness(config=simulation_config)\n",
    "message_bus = harness.message_bus\n",
    "\n",
    "# Communication Topics\n",
    "RESERVOIR_STATE_TOPIC = \"state.reservoir.level\"\n",
    "GATE_ACTION_TOPIC = \"action.gate.opening\"\n",
    "\n",
    "# Physical Components\n",
    "gate_params = {'max_rate_of_change': 0.1, 'discharge_coefficient': 0.6, 'width': 10, 'max_opening': 1.0}\n",
    "reservoir = Reservoir(name=\"reservoir_1\", initial_state={'volume': 21e6, 'water_level': 14.0}, parameters={'surface_area': 1.5e6})\n",
    "gate = Gate(name=\"gate_1\", initial_state={'opening': 0.1}, parameters=gate_params, message_bus=message_bus, action_topic=GATE_ACTION_TOPIC)\n",
    "\n",
    "# Agent Components\n",
    "twin_agent = DigitalTwinAgent(agent_id=\"twin_agent_reservoir_1\", simulated_object=reservoir, message_bus=message_bus, state_topic=RESERVOIR_STATE_TOPIC)\n",
    "pid_controller = PIDController(Kp=-0.5, Ki=-0.01, Kd=-0.1, setpoint=12.0, min_output=0.0, max_output=gate_params['max_opening'])\n",
    "control_agent = LocalControlAgent(agent_id=\"control_agent_gate_1\", controller=pid_controller, message_bus=message_bus, observation_topic=RESERVOIR_STATE_TOPIC, observation_key='water_level', action_topic=GATE_ACTION_TOPIC, dt=harness.dt)\n",
    "\n",
    "# Add all components to the harness\n",
    "harness.add_component(reservoir)\n",
    "harness.add_component(gate)\n",
    "harness.add_agent(twin_agent)\n",
    "harness.add_agent(control_agent)\n",
    "\n",
    "harness.add_connection(\"reservoir_1\", \"gate_1\")\n",
    "\n",
    "# Build and run the simulation\n",
    "import sys\n",
    "original_stdout = sys.stdout\n",
    "with open('simulation_log.txt', 'w') as f:\n",
    "    sys.stdout = f\n",
    "    harness.build()\n",
    "    harness.run_mas_simulation()\n",
    "sys.stdout = original_stdout\n",
    "\n",
    "print(\"MAS simulation complete.\")"
   ]
  },
  {
   "cell_type": "markdown",
   "metadata": {},
   "source": [
    "## Results and Visualization\n",
    "\n",
    "The plots below show the classic behavior of a feedback control system. The controller adjusts the gate opening to drive the reservoir's water level towards the desired setpoint."
   ]
  },
  {
   "cell_type": "code",
   "execution_count": null,
   "metadata": {},
   "outputs": [],
   "source": [
    "# Extract data from history\n",
    "time = [h['time'] for h in harness.history]\n",
    "reservoir_levels = [h['reservoir_1']['water_level'] for h in harness.history]\n",
    "gate_openings = [h['gate_1']['opening'] for h in harness.history]\n",
    "\n",
    "# Create a DataFrame\n",
    "df = pd.DataFrame({\n",
    "    'Time': time,\n",
    "    'Reservoir Level': reservoir_levels,\n",
    "    'Gate Opening': gate_openings\n",
    "})\n",
    "\n",
    "print(df.head())\n",
    "\n",
    "# Plot the results\n",
    "fig, (ax1, ax2) = plt.subplots(2, 1, figsize=(12, 10), sharex=True)\n",
    "\n",
    "# Reservoir Level\n",
    "ax1.plot(df['Time'], df['Reservoir Level'], label='Reservoir Water Level')\n",
    "ax1.axhline(y=12.0, color='r', linestyle='--', label='Setpoint (12.0m)')\n",
    "ax1.set_ylabel('Water Level (m)')\n",
    "ax1.set_title('MAS Feedback Control Simulation')\n",
    "ax1.grid(True)\n",
    "ax1.legend()\n",
    "\n",
    "# Gate Opening\n",
    "ax2.plot(df['Time'], df['Gate Opening'], label='Gate Opening', color='purple')\n",
    "ax2.set_xlabel('Time (s)')\n",
    "ax2.set_ylabel('Gate Opening (%)')\n",
    "ax2.grid(True)\n",
    "ax2.legend()\n",
    "\n",
    "plt.tight_layout()\n",
    "plt.show()"
   ]
  }
 ],
 "metadata": {
  "kernelspec": {
   "display_name": "Python 3",
   "language": "python",
   "name": "python3"
  },
  "language_info": {
   "codemirror_mode": {
    "name": "ipython",
    "version": 3
   },
   "file_extension": ".py",
   "mimetype": "text/x-python",
   "name": "python",
   "nbconvert_exporter": "python",
   "pygments_lexer": "ipython3",
   "version": "3.12.1"
  }
 },
 "nbformat": 4,
 "nbformat_minor": 2
}
