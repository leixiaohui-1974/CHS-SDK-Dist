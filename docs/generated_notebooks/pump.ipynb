{
 "cells": [
  {
   "cell_type": "markdown",
   "metadata": {},
   "source": [
    "# Physical Object: Pump\n",
    "\n",
    "The `Pump` class models a simple, controllable pump. It is an on/off device that provides a constant flow rate as long as the head difference it is pumping against is not greater than its maximum rated head."
   ]
  },
  {
   "cell_type": "markdown",
   "metadata": {},
   "source": [
    "### State Variables\n",
    "- `status` (int): The current status of the pump (1 for On, 0 for Off).\n",
    "- `outflow` (float): The flow rate being produced by the pump (m^3/s).\n",
    "- `power_draw_kw` (float): The electrical power being consumed by the pump (kW).\n",
    "\n",
    "### Parameters\n",
    "- `max_flow_rate` (float): The flow rate of the pump when it is on and operating within its head limit (m^3/s).\n",
    "- `max_head` (float): The maximum head difference the pump can overcome (m).\n",
    "- `power_consumption_kw` (float): The power consumed by the pump when it is running (kW)."
   ]
  },
  {
   "cell_type": "markdown",
   "metadata": {},
   "source": [
    "## Simulation Example\n",
    "\n",
    "The following simulation demonstrates the pump's behavior. We will:\n",
    "1. Turn the pump on.\n",
    "2. Increase the downstream water level until the pump can no longer overcome the head difference, causing it to shut off.\n",
    "3. Turn the pump off manually."
   ]
  },
  {
   "cell_type": "code",
   "execution_count": null,
   "metadata": {},
   "outputs": [],
   "source": [
    "import matplotlib.pyplot as plt\n",
    "import pandas as pd\n",
    "import numpy as np\n",
    "from swp.simulation_identification.physical_objects.pump import Pump\n",
    "from swp.core.interfaces import State, Parameters\n",
    "\n",
    "# 1. Define initial state and parameters\n",
    "initial_state = State(status=0, outflow=0, power_draw_kw=0)\n",
    "parameters = Parameters(\n",
    "    max_flow_rate=10.0,\n",
    "    max_head=20.0,\n",
    "    power_consumption_kw=75.0\n",
    ")\n",
    "\n",
    "# 2. Create a Pump instance\n",
    "pump = Pump(name=\"main_pump\", initial_state=initial_state, parameters=parameters)\n",
    "\n",
    "# 3. Simulation settings\n",
    "dt = 1.0\n",
    "simulation_duration = 100\n",
    "num_steps = int(simulation_duration / dt)\n",
    "history = []\n",
    "downstream_heads = []\n",
    "control_signals = []\n",
    "\n",
    "# 4. Run the simulation loop\n",
    "upstream_head = 5.0 # Constant source water level\n",
    "for t in range(num_steps):\n",
    "    # Turn pump on at t=5, off at t=80\n",
    "    if 5 <= t < 80:\n",
    "        control_signal = 1\n",
    "    else:\n",
    "        control_signal = 0\n",
    "    control_signals.append(control_signal)\n",
    "    \n",
    "    # Steadily increase the downstream head to test the max_head limit\n",
    "    # Max head is 20m, upstream is 5m, so pump stops when downstream reaches 25m\n",
    "    downstream_head = 10.0 + (t * 0.2)\n",
    "    downstream_heads.append(downstream_head)\n",
    "    \n",
    "    action = {\n",
    "        'control_signal': control_signal,\n",
    "        'upstream_head': upstream_head,\n",
    "        'downstream_head': downstream_head\n",
    "    }\n",
    "    \n",
    "    current_state = pump.step(action=action, dt=dt)\n",
    "    history.append(current_state.copy())\n",
    "\n",
    "print(\"Pump simulation complete.\")"
   ]
  },
  {
   "cell_type": "markdown",
   "metadata": {},
   "source": [
    "## Results and Visualization\n",
    "\n",
    "The plots show the pump's `status` and `outflow`. The outflow remains constant at the `max_flow_rate` until the head difference (`downstream_head` - `upstream_head`) exceeds the pump's `max_head` of 20m, at which point the outflow drops to zero, even though the pump's control signal is still on."
   ]
  },
  {
   "cell_type": "code",
   "execution_count": null,
   "metadata": {},
   "outputs": [],
   "source": [
    "# Extract data from history\n",
    "time = [i * dt for i in range(num_steps)]\n",
    "statuses = [h['status'] for h in history]\n",
    "outflows = [h['outflow'] for h in history]\n",
    "power_draws = [h['power_draw_kw'] for h in history]\n",
    "\n",
    "# Create a DataFrame\n",
    "df = pd.DataFrame({\n",
    "    'Time': time,\n",
    "    'Control Signal': control_signals,\n",
    "    'Outflow': outflows,\n",
    "    'Power Draw (kW)': power_draws,\n",
    "    'Downstream Head': downstream_heads\n",
    "})\n",
    "\n",
    "print(df.head())\n",
    "\n",
    "# Plot the results\n",
    "fig, (ax1, ax2) = plt.subplots(2, 1, figsize=(12, 10), sharex=True)\n",
    "\n",
    "# Outflow and Head\n",
    "ax1.plot(df['Time'], df['Outflow'], label='Pump Outflow', color='blue')\n",
    "ax1_twin = ax1.twinx()\n",
    "ax1_twin.plot(df['Time'], df['Downstream Head'], label='Downstream Head', color='gray', linestyle='--')\n",
    "ax1.set_ylabel('Outflow (m^3/s)')\n",
    "ax1_twin.set_ylabel('Head (m)')\n",
    "ax1.set_title('Pump Performance vs. Head')\n",
    "ax1.grid(True)\n",
    "lines, labels = ax1.get_legend_handles_labels()\n",
    "lines2, labels2 = ax1_twin.get_legend_handles_labels()\n",
    "ax1_twin.legend(lines + lines2, labels + labels2, loc='upper right')\n",
    "\n",
    "# Status and Power\n",
    "ax2.plot(df['Time'], df['Control Signal'], label='Control Signal (1=On)', drawstyle='steps-post', linestyle='--')\n",
    "ax2.plot(df['Time'], df['Power Draw (kW)'], label='Power Draw (kW)', color='red')\n",
    "ax2.set_xlabel('Time (s)')\n",
    "ax2.set_ylabel('Power (kW) / Status')\n",
    "ax2.grid(True)\n",
    "ax2.legend()\n",
    "\n",
    "plt.tight_layout()\n",
    "plt.show()"
   ]
  }
 ],
 "metadata": {
  "kernelspec": {
   "display_name": "Python 3",
   "language": "python",
   "name": "python3"
  },
  "language_info": {
   "codemirror_mode": {
    "name": "ipython",
    "version": 3
   },
   "file_extension": ".py",
   "mimetype": "text/x-python",
   "name": "python",
   "nbconvert_exporter": "python",
   "pygments_lexer": "ipython3",
   "version": "3.12.1"
  }
 },
 "nbformat": 4,
 "nbformat_minor": 2
}
