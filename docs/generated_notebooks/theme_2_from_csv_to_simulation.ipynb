{
 "cells": [
  {
   "cell_type": "markdown",
   "metadata": {},
   "source": [
    "# From CSV to Simulation: A Guide to Importing Real-World Data\n",
    "\n",
    "Welcome to the second thematic notebook for the Smart Water Platform. In the first notebook, *Anatomy of a Simulation*, we learned about the core engine. Now, we will take a critical step towards building a true Digital Twin: **driving a simulation with external, real-world data**.\n",
    "\n",
    "A simulation is only as good as its inputs. Instead of using hard-coded or mathematically generated data, we often need to feed our models with observed data from sensors, weather forecasts, or historical records. This notebook introduces the `CsvDataSourceAgent`, a new component designed for this exact purpose."
   ]
  },
  {
   "cell_type": "markdown",
   "metadata": {},
   "source": [
    "## The `CsvDataSourceAgent`: A Bridge to the Real World\n",
    "\n",
    "We have developed a new agent, `CsvDataSourceAgent`, located in `swp.data_access.csv_data_source`. Its job is simple but powerful:\n",
    "\n",
    "1. It reads a standard CSV (Comma-Separated Values) file containing time-series data. The file must have a `timestamp` column.\n",
    "2. At each step of the simulation, it checks the current simulation time (`current_time`).\n",
    "3. If it finds data in the CSV corresponding to the current time, it **publishes** that data as a message to the `MessageBus`.\n",
    "\n",
    "This allows any other component in the simulation to subscribe to this data feed and react to it in real-time."
   ]
  },
  {
   "cell_type": "markdown",
   "metadata": {},
   "source": [
    "## Making Components Data-Aware\n",
    "\n",
    "For this to work, our physical components need to be able to listen to the `MessageBus`. We have modified the `Reservoir` component to do just that. Its `__init__` method can now accept a `message_bus` and an `inflow_topic`. \n",
    "\n",
    "When the `CsvDataSourceAgent` publishes a new inflow value to the topic, the `Reservoir` receives the message and adds the value to its total inflow for that time step. This allows a single component to be influenced by both physical upstream connections and external data sources simultaneously."
   ]
  },
  {
   "cell_type": "markdown",
   "metadata": {},
   "source": [
    "## Case Study: A Data-Driven Reservoir\n",
    "\n",
    "The code below demonstrates this new feature in action. We will:\n",
    "1. Create a `CsvDataSourceAgent` and point it to a file with two days of hourly inflow data (`data/observed_inflow.csv`).\n",
    "2. Create a `Reservoir` and subscribe it to the agent's data topic.\n",
    "3. Run the simulation and observe how the reservoir's state changes based *only* on the data read from the CSV file."
   ]
  },
  {
   "cell_type": "code",
   "execution_count": null,
   "metadata": {},
   "outputs": [],
   "source": [
    "import matplotlib.pyplot as plt\n",
    "import pandas as pd\n",
    "from swp.core_engine.testing.simulation_harness import SimulationHarness\n",
    "from swp.simulation_identification.physical_objects.reservoir import Reservoir\n",
    "from swp.simulation_identification.physical_objects.gate import Gate\n",
    "from swp.data_access.csv_data_source import CsvDataSourceAgent\n",
    "\n",
    "# 1. Simulation and Communication Setup\n",
    "simulation_config = {'duration': 172800, 'dt': 3600.0} # 2 days, hourly steps\n",
    "harness = SimulationHarness(config=simulation_config)\n",
    "message_bus = harness.message_bus\n",
    "\n",
    "# 2. Define the data topic and create the agent\n",
    "DATA_TOPIC = \"data.inflow.observed\"\n",
    "csv_agent = CsvDataSourceAgent(\n",
    "    agent_id=\"csv_inflow_agent\",\n",
    "    message_bus=message_bus,\n",
    "    csv_filepath=\"data/observed_inflow.csv\",\n",
    "    publish_topic=DATA_TOPIC\n",
    ")\n",
    "\n",
    "# 3. Create the data-aware Reservoir\n",
    "reservoir = Reservoir(\n",
    "    name=\"data_driven_reservoir\",\n",
    "    initial_state={'volume': 5e6, 'water_level': 10.0},\n",
    "    parameters={'surface_area': 5e5},\n",
    "    message_bus=message_bus,\n",
    "    inflow_topic=DATA_TOPIC\n",
    ")\n",
    "\n",
    "# 4. Create a downstream gate to allow outflow\n",
    "gate = Gate(\n",
    "    name=\"outflow_gate\",\n",
    "    initial_state={'opening': 0.5}, # Fixed opening\n",
    "    parameters={'width': 10, 'discharge_coefficient': 0.6}\n",
    ")\n",
    "\n",
    "# 5. Add components and run\n",
    "harness.add_component(reservoir)\n",
    "harness.add_component(gate)\n",
    "harness.add_agent(csv_agent)\n",
    "harness.add_connection(\"data_driven_reservoir\", \"outflow_gate\")\n",
    "harness.build()\n",
    "\n",
    "# Redirect stdout to keep notebook clean\n",
    "import sys\n",
    "original_stdout = sys.stdout\n",
    "with open('simulation_log.txt', 'w') as f:\n",
    "    sys.stdout = f\n",
    "    harness.run_mas_simulation()\n",
    "sys.stdout = original_stdout\n",
    "\n",
    "print(\"Data-driven simulation complete.\")"
   ]
  },
  {
   "cell_type": "markdown",
   "metadata": {},
   "source": [
    "## Results and Visualization\n",
    "\n",
    "The plot below visualizes the simulation. We can compare the `inflow` from the CSV data with the resulting `water_level` in the reservoir. The reservoir level clearly rises and falls in response to the external data feed."
   ]
  },
  {
   "cell_type": "code",
   "execution_count": null,
   "metadata": {},
   "outputs": [],
   "source": [
    "# Load the original data for comparison\n",
    "source_data = pd.read_csv('data/observed_inflow.csv')\n",
    "\n",
    "# Extract data from simulation history\n",
    "time_hours = [h['time'] / 3600 for h in harness.history]\n",
    "water_levels = [h['data_driven_reservoir']['water_level'] for h in harness.history]\n",
    "\n",
    "# Create a DataFrame\n",
    "df = pd.DataFrame({\n",
    "    'Time (hours)': time_hours,\n",
    "    'Reservoir Level (m)': water_levels\n",
    "})\n",
    "\n",
    "# Plot the results\n",
    "fig, ax1 = plt.subplots(figsize=(14, 7))\n",
    "\n",
    "# Plot Reservoir Level on the left y-axis\n",
    "ax1.plot(df['Time (hours)'], df['Reservoir Level (m)'], label='Reservoir Water Level', color='purple')\n",
    "ax1.set_xlabel('Time (hours)')\n",
    "ax1.set_ylabel('Water Level (m)', color='purple')\n",
    "ax1.tick_params(axis='y', labelcolor='purple')\n",
    "ax1.grid(True)\n",
    "\n",
    "# Create a second y-axis for the inflow data\n",
    "ax2 = ax1.twinx()\n",
    "ax2.plot(source_data['timestamp'] / 3600, source_data['inflow'], label='Observed Inflow (from CSV)', color='blue', linestyle='--', drawstyle='steps-post')\n",
    "ax2.set_ylabel('Inflow (m^3/s)', color='blue')\n",
    "ax2.tick_params(axis='y', labelcolor='blue')\n",
    "\n",
    "fig.suptitle('Reservoir Response to Data-Driven Inflow', fontsize=16)\n",
    "fig.legend(loc='upper right', bbox_to_anchor=(0.9, 0.9))\n",
    "plt.show()"
   ]
  }
 ],
 "metadata": {
  "kernelspec": {
   "display_name": "Python 3",
   "language": "python",
   "name": "python3"
  },
  "language_info": {
   "codemirror_mode": {
    "name": "ipython",
    "version": 3
   },
   "file_extension": ".py",
   "mimetype": "text/x-python",
   "name": "python",
   "nbconvert_exporter": "python",
   "pygments_lexer": "ipython3",
   "version": "3.12.1"
  }
 },
 "nbformat": 4,
 "nbformat_minor": 2
}
