{
 "cells": [
  {
   "cell_type": "markdown",
   "metadata": {},
   "source": [
    "# Agent Component: Rainfall Agent\n",
    "\n",
    "The `RainfallAgent` is a type of **Disturbance Agent**. Its purpose is to inject an external event into the simulation to test the system's resilience and response.\n",
    "\n",
    "This agent is configured with a specific time window (`start_time`, `duration`) and an `inflow_rate`. When the simulation's current time falls within this window, the agent will continuously publish a message containing the inflow rate to a specified topic. A physical component, like a `Reservoir`, can subscribe to this topic to have its own inflow updated with this disturbance value."
   ]
  },
  {
   "cell_type": "markdown",
   "metadata": {},
   "source": [
    "## Demonstration\n",
    "\n",
    "The simulation below demonstrates the `RainfallAgent`'s behavior in isolation. We will create the agent and a listener. By calling the agent's `run()` method at different time steps, we can see that it only publishes its message during its configured active period."
   ]
  },
  {
   "cell_type": "code",
   "execution_count": null,
   "metadata": {},
   "outputs": [],
   "source": [
    "from swp.simulation_identification.disturbances.rainfall_agent import RainfallAgent\n",
    "from swp.central_coordination.collaboration.message_bus import MessageBus\n",
    "\n",
    "# 1. Setup\n",
    "message_bus = MessageBus()\n",
    "DISTURBANCE_TOPIC = \"disturbance.catchment.inflow\"\n",
    "\n",
    "rainfall_config = {\n",
    "    \"topic\": DISTURBANCE_TOPIC,\n",
    "    \"start_time\": 10,\n",
    "    \"duration\": 5,\n",
    "    \"inflow_rate\": 150.0\n",
    "}\n",
    "\n",
    "rainfall_agent = RainfallAgent(\"weather_event_1\", message_bus, rainfall_config)\n",
    "\n",
    "# 2. Create a listener\n",
    "captured_messages = []\n",
    "def listener(message):\n",
    "    captured_messages.append(message)\n",
    "\n",
    "message_bus.subscribe(DISTURBANCE_TOPIC, listener)\n",
    "\n",
    "# 3. Simulation Loop\n",
    "print(\"--- Running Simulation ---\")\n",
    "for t in range(20):\n",
    "    print(f\"Time = {t}s\")\n",
    "    rainfall_agent.run(current_time=t)\n",
    "\n",
    "print(\"\\n--- Simulation Finished ---\")"
   ]
  },
  {
   "cell_type": "markdown",
   "metadata": {},
   "source": [
    "## Results\n",
    "\n",
    "Below are the messages captured by our listener. They were only sent between t=10 and t=14 (inclusive), which corresponds to the configured `start_time` of 10 and `duration` of 5. The agent correctly remained silent at all other times."
   ]
  },
  {
   "cell_type": "code",
   "execution_count": null,
   "metadata": {},
   "outputs": [],
   "source": [
    "print(f\"Captured {len(captured_messages)} messages:\")\n",
    "for i, msg in enumerate(captured_messages):\n",
    "    print(f\"  Message {i+1}: {msg}\")"
   ]
  }
 ],
 "metadata": {
  "kernelspec": {
   "display_name": "Python 3",
   "language": "python",
   "name": "python3"
  },
  "language_info": {
   "codemirror_mode": {
    "name": "ipython",
    "version": 3
   },
   "file_extension": ".py",
   "mimetype": "text/x-python",
   "name": "python",
   "nbconvert_exporter": "python",
   "pygments_lexer": "ipython3",
   "version": "3.12.1"
  }
 },
 "nbformat": 4,
 "nbformat_minor": 2
}
