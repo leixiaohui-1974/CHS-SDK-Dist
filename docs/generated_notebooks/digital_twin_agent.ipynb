{
 "cells": [
  {
   "cell_type": "markdown",
   "metadata": {},
   "source": [
    "# Agent Component: Digital Twin Agent\n",
    "\n",
    "The `DigitalTwinAgent` is a type of **Perception Agent**. Its sole responsibility is to act as a digital counterpart to a physical object in the simulation. It reads the state of its associated physical object and publishes that state to the `MessageBus`.\n",
    "\n",
    "This simulates the role of a sensor in a real-world system, providing a stream of data that other agents can subscribe and react to. This is a fundamental component for creating a decoupled, event-driven multi-agent system."
   ]
  },
  {
   "cell_type": "markdown",
   "metadata": {},
   "source": [
    "## Simulation Example\n",
    "\n",
    "In the simulation below, we will:\n",
    "1. Create a `Reservoir` as our physical object.\n",
    "2. Create a `DigitalTwinAgent` and link it to the reservoir.\n",
    "3. Create a simple `listener` function that subscribes to the agent's topic on the `MessageBus` and records all messages it receives.\n",
    "4. In a loop, we will manually change the reservoir's volume and then call the agent's `run()` method.\n",
    "5. Finally, we will inspect the messages captured by our listener to verify that the agent correctly published the state changes."
   ]
  },
  {
   "cell_type": "code",
   "execution_count": null,
   "metadata": {},
   "outputs": [],
   "source": [
    "import matplotlib.pyplot as plt\n",
    "import pandas as pd\n",
    "from swp.simulation_identification.physical_objects.reservoir import Reservoir\n",
    "from swp.local_agents.perception.digital_twin_agent import DigitalTwinAgent\n",
    "from swp.central_coordination.collaboration.message_bus import MessageBus\n",
    "from swp.core.interfaces import State, Parameters\n",
    "\n",
    "# 1. Setup components\n",
    "message_bus = MessageBus()\n",
    "RESERVOIR_STATE_TOPIC = \"state.reservoir.level\"\n",
    "\n",
    "initial_state = State(volume=25e6, water_level=15.0)\n",
    "parameters = Parameters(surface_area=1.5e6)\n",
    "reservoir = Reservoir(name=\"storage_reservoir\", initial_state=initial_state, parameters=parameters)\n",
    "\n",
    "twin_agent = DigitalTwinAgent(\n",
    "    agent_id=\"twin_for_reservoir\",\n",
    "    simulated_object=reservoir,\n",
    "    message_bus=message_bus,\n",
    "    state_topic=RESERVOIR_STATE_TOPIC\n",
    ")\n",
    "\n",
    "# 2. Create a listener to spy on the message bus\n",
    "captured_messages = []\n",
    "def message_listener(message):\n",
    "    captured_messages.append(message)\n",
    "\n",
    "message_bus.subscribe(RESERVOIR_STATE_TOPIC, message_listener)\n",
    "\n",
    "# 3. Simulation loop\n",
    "num_steps = 5\n",
    "for i in range(num_steps):\n",
    "    print(f\"--- Step {i+1} ---\")\n",
    "    # Manually change the reservoir's state\n",
    "    new_volume = reservoir.get_state()['volume'] + (i * 1e5)\n",
    "    reservoir.set_state({'volume': new_volume, 'water_level': new_volume / parameters['surface_area']})\n",
    "    print(f\"Manually set reservoir volume to: {reservoir.get_state()['volume']:.2f}\")\n",
    "    \n",
    "    # Run the agent\n",
    "    twin_agent.run(current_time=i)\n",
    "    print(f\"DigitalTwinAgent was run. A message should have been published.\")\n",
    "\n",
    "print(\"\\n--- Simulation Finished ---\")"
   ]
  },
  {
   "cell_type": "markdown",
   "metadata": {},
   "source": [
    "## Results\n",
    "\n",
    "Below are the messages that our listener captured from the message bus. As you can see, for each step in our simulation where we changed the reservoir's state and ran the agent, a corresponding message containing the new state was published to the correct topic."
   ]
  },
  {
   "cell_type": "code",
   "execution_count": null,
   "metadata": {},
   "outputs": [],
   "source": [
    "# Display the captured messages\n",
    "if not captured_messages:\n",
    "    print(\"No messages were captured.\")\n",
    "else:\n",
    "    print(f\"Captured {len(captured_messages)} messages from topic '{RESERVOIR_STATE_TOPIC}':\\n\")\n",
    "    for i, msg in enumerate(captured_messages):\n",
    "        print(f\"Message {i+1}: {msg}\")"
   ]
  }
 ],
 "metadata": {
  "kernelspec": {
   "display_name": "Python 3",
   "language": "python",
   "name": "python3"
  },
  "language_info": {
   "codemirror_mode": {
    "name": "ipython",
    "version": 3
   },
   "file_extension": ".py",
   "mimetype": "text/x-python",
   "name": "python",
   "nbconvert_exporter": "python",
   "pygments_lexer": "ipython3",
   "version": "3.12.1"
  }
 },
 "nbformat": 4,
 "nbformat_minor": 2
}
