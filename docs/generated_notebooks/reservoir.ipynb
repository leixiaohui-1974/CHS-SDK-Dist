{
 "cells": [
  {
   "cell_type": "markdown",
   "metadata": {},
   "source": [
    "# Physical Object: Reservoir\n",
    "\n",
    "The `Reservoir` class is a fundamental stateful object in the simulation, representing a body of stored water. Its state is determined by the mass balance of inflows and outflows over time.\n",
    "\n",
    "Functionally similar to the `Lake` model but without an evaporation component, the `Reservoir`'s outflow is not calculated internally. Instead, it is determined by the demand of downstream components and provided to the `step` method via the `action` dictionary."
   ]
  },
  {
   "cell_type": "markdown",
   "metadata": {},
   "source": [
    "### State Variables\n",
    "- `volume` (float): The current volume of water in the reservoir (m^3).\n",
    "- `water_level` (float): The current water level (m), calculated from volume and surface area.\n",
    "- `outflow` (float): The outflow from the reservoir for the current step (m^3/s), provided as an input.\n",
    "\n",
    "### Parameters\n",
    "- `surface_area` (float): The surface area of the reservoir (m^2), used for calculating water level from volume."
   ]
  },
  {
   "cell_type": "markdown",
   "metadata": {},
   "source": [
    "## Simulation Example\n",
    "\n",
    "The following simulation demonstrates a reservoir's response to variable inflows and outflows. We will provide a cyclical inflow pattern and a steady outflow demand, and observe the resulting changes in the reservoir's volume and water level."
   ]
  },
  {
   "cell_type": "code",
   "execution_count": null,
   "metadata": {},
   "outputs": [],
   "source": [
    "import matplotlib.pyplot as plt\n",
    "import pandas as pd\n",
    "import numpy as np\n",
    "from swp.simulation_identification.physical_objects.reservoir import Reservoir\n",
    "from swp.core.interfaces import State, Parameters\n",
    "\n",
    "# 1. Define initial state and parameters\n",
    "initial_volume = 25e6\n",
    "surface_area = 1.5e6\n",
    "initial_state = State(volume=initial_volume, water_level=initial_volume/surface_area)\n",
    "parameters = Parameters(surface_area=surface_area)\n",
    "\n",
    "# 2. Create a Reservoir instance\n",
    "reservoir = Reservoir(name=\"storage_reservoir\", initial_state=initial_state, parameters=parameters)\n",
    "\n",
    "# 3. Simulation settings\n",
    "dt = 3600 # 1-hour time steps\n",
    "simulation_duration = 86400 * 4 # 4 days\n",
    "num_steps = int(simulation_duration / dt)\n",
    "history = []\n",
    "inflows = []\n",
    "\n",
    "# 4. Run the simulation loop\n",
    "outflow_demand = 200.0 # Constant outflow demand\n",
    "for t in range(num_steps):\n",
    "    # Create a cyclical inflow pattern (e.g. from an upstream river)\n",
    "    inflow = 150 + 100 * np.sin(2 * np.pi * t * dt / 86400)\n",
    "    inflows.append(inflow)\n",
    "    reservoir.set_inflow(inflow)\n",
    "    \n",
    "    action = {'outflow': outflow_demand}\n",
    "    \n",
    "    current_state = reservoir.step(action=action, dt=dt)\n",
    "    history.append(current_state.copy())\n",
    "\n",
    "print(\"Reservoir simulation complete.\")"
   ]
  },
  {
   "cell_type": "markdown",
   "metadata": {},
   "source": [
    "## Results and Visualization\n",
    "\n",
    "The plots show the reservoir's water level and volume changing in response to the daily inflow cycle against the constant outflow demand."
   ]
  },
  {
   "cell_type": "code",
   "execution_count": null,
   "metadata": {},
   "outputs": [],
   "source": [
    "# Extract data from history\n",
    "time_days = [i * dt / 86400 for i in range(num_steps)]\n",
    "water_levels = [h['water_level'] for h in history]\n",
    "volumes_Mm3 = [h['volume'] / 1e6 for h in history] # Convert to million cubic meters\n",
    "\n",
    "# Create a DataFrame\n",
    "df = pd.DataFrame({\n",
    "    'Time (days)': time_days,\n",
    "    'Inflow (m^3/s)': inflows,\n",
    "    'Water Level (m)': water_levels,\n",
    "    'Volume (Mm^3)': volumes_Mm3\n",
    "})\n",
    "\n",
    "print(df.head())\n",
    "\n",
    "# Plot the results\n",
    "fig, (ax1, ax2) = plt.subplots(2, 1, figsize=(12, 10), sharex=True)\n",
    "\n",
    "# Inflow\n",
    "ax1.plot(df['Time (days)'], df['Inflow (m^3/s)'], label='Inflow', linestyle='--')\n",
    "ax1.axhline(y=outflow_demand, color='red', linestyle=':', label='Outflow Demand')\n",
    "ax1.set_ylabel('Flow Rate (m^3/s)')\n",
    "ax1.set_title('Reservoir Simulation')\n",
    "ax1.grid(True)\n",
    "ax1.legend()\n",
    "\n",
    "# Water Level and Volume\n",
    "ax2.plot(df['Time (days)'], df['Water Level (m)'], label='Water Level (m)', color='purple')\n",
    "ax2.set_xlabel('Time (days)')\n",
    "ax2.set_ylabel('Water Level (m)', color='purple')\n",
    "ax2.tick_params(axis='y', labelcolor='purple')\n",
    "ax2.legend(loc='upper left')\n",
    "\n",
    "ax2_twin = ax2.twinx()\n",
    "ax2_twin.plot(df['Time (days)'], df['Volume (Mm^3)'], label='Volume (Mm^3)', color='green')\n",
    "ax2_twin.set_ylabel('Volume (Mm^3)', color='green')\n",
    "ax2_twin.tick_params(axis='y', labelcolor='green')\n",
    "ax2_twin.legend(loc='upper right')\n",
    "\n",
    "plt.tight_layout()\n",
    "plt.show()"
   ]
  }
 ],
 "metadata": {
  "kernelspec": {
   "display_name": "Python 3",
   "language": "python",
   "name": "python3"
  },
  "language_info": {
   "codemirror_mode": {
    "name": "ipython",
    "version": 3
   },
   "file_extension": ".py",
   "mimetype": "text/x-python",
   "name": "python",
   "nbconvert_exporter": "python",
   "pygments_lexer": "ipython3",
   "version": "3.12.1"
  }
 },
 "nbformat": 4,
 "nbformat_minor": 2
}
