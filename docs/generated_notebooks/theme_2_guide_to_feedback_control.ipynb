{
 "cells": [
  {
   "cell_type": "markdown",
   "metadata": {},
   "source": [
    "# Guide to Feedback Control\n",
    "\n",
    "In the previous notebook, we learned how to set up a static simulation. Now, we'll explore one of the most powerful features of the Smart Water Platform: building dynamic, closed-loop control systems using **Agents**.\n",
    "\n",
    "A feedback control system works on a simple but powerful principle: **Sense, Decide, Act**. We will build a system that:\n",
    "1.  **Senses** the water level in a reservoir.\n",
    "2.  **Decides** how to adjust a gate to bring the water level to a desired setpoint.\n",
    "3.  **Acts** on the gate to change its opening."
   ]
  },
  {
   "cell_type": "markdown",
   "metadata": {},
   "source": [
    "## The MessageBus: The Central Nervous System\n",
    "\n",
    "The key to decoupling our components is the `MessageBus`. It allows different parts of the system to communicate without needing to know about each other directly. This is achieved through a **publish-subscribe** pattern:\n",
    "\n",
    "- An agent can **publish** a message (e.g., a piece of data like a water level) to a named channel, called a **topic**.\n",
    "- Any other agent can **subscribe** to that topic to receive all messages published to it.\n",
    "\n",
    "This is how our control agent will get information about the reservoir's state."
   ]
  },
  {
   "cell_type": "markdown",
   "metadata": {},
   "source": [
    "## The Cast of Agents\n",
    "\n",
    "To build our control loop, we need a few specialized agents:"
   ]
  },
  {
   "cell_type": "markdown",
   "metadata": {},
   "source": [
    "### 1. The Sensor: `DigitalTwinAgent`\n",
    "The `DigitalTwinAgent` is our sensor. Its job is to read the state of a physical component (its \"digital twin\") and publish it to a topic on the message bus. In our case, it will read the `water_level` from our reservoir and publish it to the `\"state.reservoir.level\"` topic."
   ]
  },
  {
   "cell_type": "markdown",
   "metadata": {},
   "source": [
    "### 2. The Decision-Maker: `PIDController`\n",
    "The `PIDController` (Proportional-Integral-Derivative) is a classic control algorithm. It takes a `setpoint` (the desired value) and a `process_variable` (the current measured value) and calculates an appropriate control action to minimize the error between them. It doesn't know *what* it's controlling, only that it needs to reduce the error."
   ]
  },
  {
   "cell_type": "markdown",
   "metadata": {},
   "source": [
    "### 3. The Brain: `LocalControlAgent`\n",
    "The `LocalControlAgent` (LCA) is the brain of our operation. It connects the sensor and the decision-maker to an actuator. The LCA is configured to:\n",
    "- **Subscribe** to a state topic (e.g., `\"state.reservoir.level\"`).\n",
    "- When it receives a message, it passes the value to its internal `PIDController`.\n",
    "- It takes the output from the PID controller and **publishes** it as a control signal to an action topic (e.g., `\"action.gate.opening\"`)."
   ]
  },
  {
   "cell_type": "markdown",
   "metadata": {},
   "source": [
    "### 4. The Actuator: A Message-Aware `Gate`\n",
    "Finally, we need an actuator that can receive the command from the LCA. We configure our `Gate` to subscribe to the `\"action.gate.opening\"` topic on the message bus. When it receives a message, it updates its target opening, completing the control loop."
   ]
  },
  {
   "cell_type": "markdown",
   "metadata": {},
   "source": [
    "## Visualizing the Architecture\n",
    "\n",
    "The diagram below shows this architecture. Ovals represent agents, and rectangles represent physical components. The arrows show the flow of information through the `MessageBus`."
   ]
  },
  {
   "cell_type": "code",
   "execution_count": null,
   "metadata": {},
   "outputs": [],
   "source": [
    "import networkx as nx\n",
    "import matplotlib.pyplot as plt\n",
    "\n",
    "G = nx.DiGraph()\n",
    "\n",
    "# Add nodes with type attribute\n",
    "G.add_node(\"Reservoir\", type='physical')\n",
    "G.add_node(\"Gate\", type='physical')\n",
    "G.add_node(\"Twin Agent\", type='agent')\n",
    "G.add_node(\"LCA (PID)\", type='agent')\n",
    "\n",
    "# Add edges representing information flow\n",
    "G.add_edge(\"Reservoir\", \"Twin Agent\", label='reads state')\n",
    "G.add_edge(\"Twin Agent\", \"LCA (PID)\", label='publishes state\\n(state.reservoir.level)')\n",
    "G.add_edge(\"LCA (PID)\", \"Gate\", label='publishes action\\n(action.gate.opening)')\n",
    "\n",
    "node_colors = ['lightblue' if G.nodes[n]['type'] == 'physical' else 'lightgreen' for n in G.nodes]\n",
    "pos = nx.circular_layout(G)\n",
    "\n",
    "plt.figure(figsize=(10, 8))\n",
    "nx.draw(G, pos, with_labels=True, node_size=5000, node_color=node_colors, font_size=10, font_weight='bold', arrowsize=20)\n",
    "edge_labels = nx.get_edge_attributes(G, 'label')\n",
    "nx.draw_networkx_edge_labels(G, pos, edge_labels=edge_labels, font_color='red')\n",
    "plt.title('Feedback Control Architecture')\n",
    "plt.show()"
   ]
  },
  {
   "cell_type": "markdown",
   "metadata": {},
   "source": [
    "## The Simulation Code\n",
    "Now let's see the code that builds and runs this system."
   ]
  },
  {
   "cell_type": "code",
   "execution_count": null,
   "metadata": {},
   "outputs": [],
   "source": [
    "from swp.simulation_identification.physical_objects.reservoir import Reservoir\n",
    "from swp.simulation_identification.physical_objects.gate import Gate\n",
    "from swp.local_agents.control.pid_controller import PIDController\n",
    "from swp.local_agents.control.local_control_agent import LocalControlAgent\n",
    "from swp.local_agents.perception.digital_twin_agent import DigitalTwinAgent\n",
    "from swp.core_engine.testing.simulation_harness import SimulationHarness\n",
    "import pandas as pd\n",
    "\n",
    "# 1. Setup Harness and MessageBus\n",
    "simulation_config = {'duration': 300, 'dt': 1.0}\n",
    "harness = SimulationHarness(config=simulation_config)\n",
    "message_bus = harness.message_bus\n",
    "\n",
    "# 2. Define Communication Topics\n",
    "RESERVOIR_STATE_TOPIC = \"state.reservoir.level\"\n",
    "GATE_ACTION_TOPIC = \"action.gate.opening\"\n",
    "\n",
    "# 3. Create Physical and Agent Components\n",
    "reservoir = Reservoir(name=\"reservoir_1\", initial_state={'volume': 21e6, 'water_level': 14.0}, parameters={'surface_area': 1.5e6})\n",
    "gate = Gate(name=\"gate_1\", initial_state={'opening': 0.1}, parameters={'width': 10}, message_bus=message_bus, action_topic=GATE_ACTION_TOPIC)\n",
    "\n",
    "twin_agent = DigitalTwinAgent(agent_id=\"twin_agent_reservoir_1\", simulated_object=reservoir, message_bus=message_bus, state_topic=RESERVOIR_STATE_TOPIC)\n",
    "pid_controller = PIDController(Kp=-0.5, Ki=-0.01, Kd=-0.1, setpoint=12.0)\n",
    "control_agent = LocalControlAgent(agent_id=\"control_agent_gate_1\", controller=pid_controller, message_bus=message_bus, observation_topic=RESERVOIR_STATE_TOPIC, observation_key='water_level', action_topic=GATE_ACTION_TOPIC, dt=harness.dt)\n",
    "\n",
    "# 4. Add everything to the harness\n",
    "harness.add_component(reservoir)\n",
    "harness.add_component(gate)\n",
    "harness.add_agent(twin_agent)\n",
    "harness.add_agent(control_agent)\n",
    "harness.add_connection(\"reservoir_1\", \"gate_1\")\n",
    "\n",
    "# 5. Build and run the Multi-Agent System (MAS) simulation\n",
    "import sys\n",
    "original_stdout = sys.stdout\n",
    "with open('simulation_log.txt', 'w') as f:\n",
    "    sys.stdout = f\n",
    "    harness.build()\n",
    "    harness.run_mas_simulation()\n",
    "sys.stdout = original_stdout\n",
    "\n",
    "print(\"Feedback control simulation complete.\")"
   ]
  },
  {
   "cell_type": "markdown",
   "metadata": {},
   "source": [
    "## Results and Visualization\n",
    "\n",
    "The plots below show the results. The water level starts at 14.0m and is driven by the controller towards the 12.0m setpoint. We can see the gate opening adjusted by the LCA to achieve this."
   ]
  },
  {
   "cell_type": "code",
   "execution_count": null,
   "metadata": {},
   "outputs": [],
   "source": [
    "time = [h['time'] for h in harness.history]\n",
    "res_level = [h['reservoir_1']['water_level'] for h in harness.history]\n",
    "gate_opening = [h['gate_1']['opening'] for h in harness.history]\n",
    "\n",
    "df = pd.DataFrame({'Time': time, 'Reservoir Level': res_level, 'Gate Opening': gate_opening})\n",
    "\n",
    "fig, (ax1, ax2) = plt.subplots(2, 1, figsize=(12, 10), sharex=True)\n",
    "\n",
    "ax1.plot(df['Time'], df['Reservoir Level'], label='Reservoir Water Level')\n",
    "ax1.axhline(y=12.0, color='r', linestyle='--', label='Setpoint (12.0m)')\n",
    "ax1.set_ylabel('Water Level (m)')\n",
    "ax1.set_title('Feedback Control Performance')\n",
    "ax1.grid(True)\n",
    "ax1.legend()\n",
    "\n",
    "ax2.plot(df['Time'], df['Gate Opening'], label='Gate Opening', color='purple')\n",
    "ax2.set_xlabel('Time (s)')\n",
    "ax2.set_ylabel('Gate Opening (%)')\n",
    "ax2.grid(True)\n",
    "ax2.legend()\n",
    "\n",
    "plt.tight_layout()\n",
    "plt.show()"
   ]
  }
 ],
 "metadata": {
  "kernelspec": {
   "display_name": "Python 3",
   "language": "python",
   "name": "python3"
  },
  "language_info": {
   "codemirror_mode": {
    "name": "ipython",
    "version": 3
   },
   "file_extension": ".py",
   "mimetype": "text/x-python",
   "name": "python",
   "nbconvert_exporter": "python",
   "pygments_lexer": "ipython3",
   "version": "3.12.1"
  }
 },
 "nbformat": 4,
 "nbformat_minor": 2
}
